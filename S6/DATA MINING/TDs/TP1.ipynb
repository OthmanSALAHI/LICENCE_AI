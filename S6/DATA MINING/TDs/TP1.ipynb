{
 "cells": [
  {
   "cell_type": "code",
   "execution_count": 1,
   "id": "b6db77ab-88b7-48c4-aee3-40a18f506c07",
   "metadata": {},
   "outputs": [],
   "source": [
    "import pandas as pd"
   ]
  },
  {
   "cell_type": "code",
   "execution_count": 2,
   "id": "cfb55840-fe9c-40f2-b2b4-6b7057b60b3f",
   "metadata": {},
   "outputs": [],
   "source": [
    "import numpy as np"
   ]
  },
  {
   "cell_type": "code",
   "execution_count": 3,
   "id": "54cf153d-31c0-430e-90c7-c8ba1131cbc4",
   "metadata": {},
   "outputs": [
    {
     "name": "stdout",
     "output_type": "stream",
     "text": [
      "      price  area  bedrooms  bathrooms  stories mainroad guestroom basement  \\\n",
      "0  13300000  7420         4          2        3      yes        no       no   \n",
      "1  12250000  8960         4          4        4      yes        no       no   \n",
      "2  12250000  9960         3          2        2      yes        no      yes   \n",
      "3  12215000  7500         4          2        2      yes        no      yes   \n",
      "4  11410000  7420         4          1        2      yes       yes      yes   \n",
      "\n",
      "  hotwaterheating airconditioning  parking prefarea furnishingstatus  \n",
      "0              no             yes        2      yes        furnished  \n",
      "1              no             yes        3       no        furnished  \n",
      "2              no              no        2      yes   semi-furnished  \n",
      "3              no             yes        3      yes        furnished  \n",
      "4              no             yes        2       no        furnished  \n"
     ]
    }
   ],
   "source": [
    "data = pd.read_csv('Housing.csv')\n",
    "data = pd.DataFrame(data)\n",
    "print(data.head())"
   ]
  },
  {
   "cell_type": "code",
   "execution_count": 4,
   "id": "a8b5ce82-8df2-45be-a788-6ee2b75143b2",
   "metadata": {},
   "outputs": [
    {
     "name": "stdout",
     "output_type": "stream",
     "text": [
      "nombre de lignes : 545\n"
     ]
    }
   ],
   "source": [
    "print(\"nombre de lignes :\",data.shape[0])"
   ]
  },
  {
   "cell_type": "code",
   "execution_count": 5,
   "id": "07b805a6-75ce-40d1-9209-71519ce7499e",
   "metadata": {},
   "outputs": [
    {
     "name": "stdout",
     "output_type": "stream",
     "text": [
      "nombre de colonnes : 13\n"
     ]
    }
   ],
   "source": [
    "print(\"nombre de colonnes :\",data.shape[1])"
   ]
  },
  {
   "cell_type": "code",
   "execution_count": 6,
   "id": "853f7923-06d4-4a99-9cb2-ed047763fb66",
   "metadata": {},
   "outputs": [
    {
     "name": "stdout",
     "output_type": "stream",
     "text": [
      "les colonnes sont : Index(['price', 'area', 'bedrooms', 'bathrooms', 'stories', 'mainroad',\n",
      "       'guestroom', 'basement', 'hotwaterheating', 'airconditioning',\n",
      "       'parking', 'prefarea', 'furnishingstatus'],\n",
      "      dtype='object')\n"
     ]
    }
   ],
   "source": [
    "print(\"les colonnes sont :\",data.columns)"
   ]
  },
  {
   "cell_type": "code",
   "execution_count": 7,
   "id": "1b53c3be-e4bc-4d7f-b393-5a0f75ebad2f",
   "metadata": {},
   "outputs": [
    {
     "name": "stdout",
     "output_type": "stream",
     "text": [
      "le types des colonnes sont : price                int64\n",
      "area                 int64\n",
      "bedrooms             int64\n",
      "bathrooms            int64\n",
      "stories              int64\n",
      "mainroad            object\n",
      "guestroom           object\n",
      "basement            object\n",
      "hotwaterheating     object\n",
      "airconditioning     object\n",
      "parking              int64\n",
      "prefarea            object\n",
      "furnishingstatus    object\n",
      "dtype: object\n"
     ]
    }
   ],
   "source": [
    "print(\"le types des colonnes sont :\",data.dtypes)"
   ]
  },
  {
   "cell_type": "code",
   "execution_count": 8,
   "id": "5d35f412-eb79-46b7-a0a4-12c64c626da0",
   "metadata": {},
   "outputs": [
    {
     "name": "stdout",
     "output_type": "stream",
     "text": [
      "['price', 'area', 'bedrooms', 'bathrooms', 'stories', 'parking']\n",
      "les colonnes numeriques sont : 6\n"
     ]
    }
   ],
   "source": [
    "cols_num = data.select_dtypes(include=['number']).columns\n",
    "print(cols_num.to_list())\n",
    "print(\"les colonnes numeriques sont :\",len(cols_num))"
   ]
  },
  {
   "cell_type": "code",
   "execution_count": 9,
   "id": "2c3c9afe-6a61-4fdb-ab92-ed3a1554b4b9",
   "metadata": {},
   "outputs": [
    {
     "name": "stdout",
     "output_type": "stream",
     "text": [
      "les colonnes numeriques sont : 7\n"
     ]
    }
   ],
   "source": [
    "col_cat = data.select_dtypes(include=['object']).columns\n",
    "print(\"les colonnes numeriques sont :\",len(col_cat))"
   ]
  },
  {
   "cell_type": "code",
   "execution_count": 10,
   "id": "58be0c9d-115c-4924-9f60-cf22e85aa712",
   "metadata": {},
   "outputs": [
    {
     "name": "stdout",
     "output_type": "stream",
     "text": [
      "<class 'pandas.core.frame.DataFrame'>\n",
      "RangeIndex: 545 entries, 0 to 544\n",
      "Data columns (total 13 columns):\n",
      " #   Column            Non-Null Count  Dtype \n",
      "---  ------            --------------  ----- \n",
      " 0   price             545 non-null    int64 \n",
      " 1   area              545 non-null    int64 \n",
      " 2   bedrooms          545 non-null    int64 \n",
      " 3   bathrooms         545 non-null    int64 \n",
      " 4   stories           545 non-null    int64 \n",
      " 5   mainroad          545 non-null    object\n",
      " 6   guestroom         545 non-null    object\n",
      " 7   basement          545 non-null    object\n",
      " 8   hotwaterheating   545 non-null    object\n",
      " 9   airconditioning   545 non-null    object\n",
      " 10  parking           545 non-null    int64 \n",
      " 11  prefarea          545 non-null    object\n",
      " 12  furnishingstatus  545 non-null    object\n",
      "dtypes: int64(6), object(7)\n",
      "memory usage: 55.5+ KB\n",
      "None\n"
     ]
    }
   ],
   "source": [
    "print(data.info())"
   ]
  },
  {
   "cell_type": "code",
   "execution_count": 11,
   "id": "25f41f40-db2b-4d21-a41b-bc834aa733ec",
   "metadata": {},
   "outputs": [
    {
     "name": "stdout",
     "output_type": "stream",
     "text": [
      "0\n"
     ]
    }
   ],
   "source": [
    "print(data.isnull().sum().sum())"
   ]
  },
  {
   "cell_type": "code",
   "execution_count": 12,
   "id": "589bbc78-1843-46bc-abf3-5ac53b606cec",
   "metadata": {},
   "outputs": [
    {
     "name": "stdout",
     "output_type": "stream",
     "text": [
      "              price          area    bedrooms   bathrooms     stories  \\\n",
      "count  5.450000e+02    545.000000  545.000000  545.000000  545.000000   \n",
      "mean   4.766729e+06   5150.541284    2.965138    1.286239    1.805505   \n",
      "std    1.870440e+06   2170.141023    0.738064    0.502470    0.867492   \n",
      "min    1.750000e+06   1650.000000    1.000000    1.000000    1.000000   \n",
      "25%    3.430000e+06   3600.000000    2.000000    1.000000    1.000000   \n",
      "50%    4.340000e+06   4600.000000    3.000000    1.000000    2.000000   \n",
      "75%    5.740000e+06   6360.000000    3.000000    2.000000    2.000000   \n",
      "max    1.330000e+07  16200.000000    6.000000    4.000000    4.000000   \n",
      "\n",
      "          parking  \n",
      "count  545.000000  \n",
      "mean     0.693578  \n",
      "std      0.861586  \n",
      "min      0.000000  \n",
      "25%      0.000000  \n",
      "50%      0.000000  \n",
      "75%      1.000000  \n",
      "max      3.000000  \n"
     ]
    }
   ],
   "source": [
    "print(data.describe())"
   ]
  },
  {
   "cell_type": "code",
   "execution_count": 13,
   "id": "a1f02c74-1918-4774-a4c4-ae0af5f80342",
   "metadata": {},
   "outputs": [
    {
     "name": "stdout",
     "output_type": "stream",
     "text": [
      "price                 1750000\n",
      "area                     1650\n",
      "bedrooms                    1\n",
      "bathrooms                   1\n",
      "stories                     1\n",
      "mainroad                   no\n",
      "guestroom                  no\n",
      "basement                   no\n",
      "hotwaterheating            no\n",
      "airconditioning            no\n",
      "parking                     0\n",
      "prefarea                   no\n",
      "furnishingstatus    furnished\n",
      "dtype: object\n",
      "price                  13300000\n",
      "area                      16200\n",
      "bedrooms                      6\n",
      "bathrooms                     4\n",
      "stories                       4\n",
      "mainroad                    yes\n",
      "guestroom                   yes\n",
      "basement                    yes\n",
      "hotwaterheating             yes\n",
      "airconditioning             yes\n",
      "parking                       3\n",
      "prefarea                    yes\n",
      "furnishingstatus    unfurnished\n",
      "dtype: object\n"
     ]
    }
   ],
   "source": [
    "print(data.min())\n",
    "print(data.max())\n"
   ]
  },
  {
   "cell_type": "code",
   "execution_count": 14,
   "id": "1a394f8d-3cb0-4630-8faf-7da93b08e18d",
   "metadata": {},
   "outputs": [
    {
     "name": "stdout",
     "output_type": "stream",
     "text": [
      "      price  area  bedrooms  bathrooms  stories  parking\n",
      "0  13300000  7420         4          2        3        2\n",
      "1  12250000  8960         4          4        4        3\n",
      "2  12250000  9960         3          2        2        2\n",
      "3  12215000  7500         4          2        2        3\n",
      "4  11410000  7420         4          1        2        2\n",
      "price        4.766729e+06\n",
      "area         5.150541e+03\n",
      "bedrooms     2.965138e+00\n",
      "bathrooms    1.286239e+00\n",
      "stories      1.805505e+00\n",
      "parking      6.935780e-01\n",
      "dtype: float64\n"
     ]
    }
   ],
   "source": [
    "data_num = data.select_dtypes(include='number')\n",
    "print(data_num.head())\n",
    "print(data_num.mean())"
   ]
  },
  {
   "cell_type": "code",
   "execution_count": 15,
   "id": "09a429e4-98de-4c71-9697-26d96b512454",
   "metadata": {},
   "outputs": [
    {
     "name": "stdout",
     "output_type": "stream",
     "text": [
      "price        4340000.0\n",
      "area            4600.0\n",
      "bedrooms           3.0\n",
      "bathrooms          1.0\n",
      "stories            2.0\n",
      "parking            0.0\n",
      "dtype: float64\n"
     ]
    }
   ],
   "source": [
    "print(data_num.median())"
   ]
  },
  {
   "cell_type": "code",
   "execution_count": 16,
   "id": "1d0f7e42-944f-4ef7-b563-34c320af9a1e",
   "metadata": {},
   "outputs": [
    {
     "name": "stdout",
     "output_type": "stream",
     "text": [
      "     price    area  bedrooms  bathrooms  stories mainroad guestroom basement  \\\n",
      "0  3500000  6000.0       3.0        1.0      2.0      yes        no       no   \n",
      "1  4200000     NaN       NaN        NaN      NaN      NaN       NaN      NaN   \n",
      "\n",
      "  hotwaterheating airconditioning  parking prefarea furnishingstatus  \n",
      "0              no              no      0.0       no   semi-furnished  \n",
      "1             NaN             NaN      NaN      NaN              NaN  \n"
     ]
    }
   ],
   "source": [
    "print(data.mode())"
   ]
  },
  {
   "cell_type": "code",
   "execution_count": 17,
   "id": "0d9ecf54-4e1a-4037-bd8d-050ce85a32b0",
   "metadata": {},
   "outputs": [
    {
     "name": "stdout",
     "output_type": "stream",
     "text": [
      "price        1.870440e+06\n",
      "area         2.170141e+03\n",
      "bedrooms     7.380639e-01\n",
      "bathrooms    5.024696e-01\n",
      "stories      8.674925e-01\n",
      "parking      8.615858e-01\n",
      "dtype: float64\n"
     ]
    }
   ],
   "source": [
    "print(data_num.std())"
   ]
  },
  {
   "cell_type": "code",
   "execution_count": 18,
   "id": "7f7144c8-758f-4de4-bf89-afae3162fba0",
   "metadata": {},
   "outputs": [
    {
     "name": "stdout",
     "output_type": "stream",
     "text": [
      "25% :           price    area  bedrooms  bathrooms  stories  parking\n",
      "0.25  3430000.0  3600.0       2.0        1.0      1.0      0.0\n",
      "50% :          price    area  bedrooms  bathrooms  stories  parking\n",
      "0.5  4340000.0  4600.0       3.0        1.0      2.0      0.0\n",
      "75% :           price    area  bedrooms  bathrooms  stories  parking\n",
      "0.75  5740000.0  6360.0       3.0        2.0      2.0      1.0\n"
     ]
    }
   ],
   "source": [
    "print('25% :',data_num.quantile([0.25]))\n",
    "print('50% :',data_num.quantile([0.50]))\n",
    "print('75% :',data_num.quantile([0.75]))"
   ]
  },
  {
   "cell_type": "code",
   "execution_count": 19,
   "id": "e779f639-3dbe-47ce-ba45-fcd635441f37",
   "metadata": {},
   "outputs": [
    {
     "name": "stdout",
     "output_type": "stream",
     "text": [
      "price               545\n",
      "area                545\n",
      "bedrooms            545\n",
      "bathrooms           545\n",
      "stories             545\n",
      "mainroad            545\n",
      "guestroom           545\n",
      "basement            545\n",
      "hotwaterheating     545\n",
      "airconditioning     545\n",
      "parking             545\n",
      "prefarea            545\n",
      "furnishingstatus    545\n",
      "dtype: int64\n"
     ]
    }
   ],
   "source": [
    "print(data.count())"
   ]
  },
  {
   "cell_type": "code",
   "execution_count": 20,
   "id": "27a80318-eec2-463c-8941-39fc578ef762",
   "metadata": {},
   "outputs": [
    {
     "name": "stdout",
     "output_type": "stream",
     "text": [
      "le moyen prix de maison est : 4766729.247706422\n",
      "le median prix de maison est : 4340000.0\n"
     ]
    }
   ],
   "source": [
    "print('le moyen prix de maison est :',data['price'].mean())\n",
    "print('le median prix de maison est :',data['price'].median())"
   ]
  },
  {
   "cell_type": "code",
   "execution_count": 21,
   "id": "95903d51-609c-4bd4-8f66-437cdc303b5f",
   "metadata": {},
   "outputs": [
    {
     "name": "stdout",
     "output_type": "stream",
     "text": [
      "mainroad\n",
      "yes    468\n",
      "no      77\n",
      "Name: count, dtype: int64\n",
      "guestroom\n",
      "no     448\n",
      "yes     97\n",
      "Name: count, dtype: int64\n",
      "basement\n",
      "no     354\n",
      "yes    191\n",
      "Name: count, dtype: int64\n",
      "hotwaterheating\n",
      "no     520\n",
      "yes     25\n",
      "Name: count, dtype: int64\n",
      "airconditioning\n",
      "no     373\n",
      "yes    172\n",
      "Name: count, dtype: int64\n",
      "prefarea\n",
      "no     417\n",
      "yes    128\n",
      "Name: count, dtype: int64\n",
      "furnishingstatus\n",
      "semi-furnished    227\n",
      "unfurnished       178\n",
      "furnished         140\n",
      "Name: count, dtype: int64\n"
     ]
    }
   ],
   "source": [
    "# print(data[data.select_dtypes(exclude=['number']).columns].value_counts())\n",
    "for col in col_cat:\n",
    "    print(data[col].value_counts())\n"
   ]
  },
  {
   "cell_type": "code",
   "execution_count": 22,
   "id": "91ca6c6a",
   "metadata": {},
   "outputs": [
    {
     "name": "stdout",
     "output_type": "stream",
     "text": [
      "0\n"
     ]
    }
   ],
   "source": [
    "print(data.isnull().sum().sum())"
   ]
  },
  {
   "cell_type": "code",
   "execution_count": 23,
   "id": "a151bfbe",
   "metadata": {},
   "outputs": [
    {
     "data": {
      "text/plain": [
       "area\n",
       "7420     12355000.0\n",
       "8960     12250000.0\n",
       "9960     12250000.0\n",
       "7500     11532500.0\n",
       "16200    10150000.0\n",
       "Name: price, dtype: float64"
      ]
     },
     "execution_count": 23,
     "metadata": {},
     "output_type": "execute_result"
    }
   ],
   "source": [
    "top_quartiers = data.groupby(\"area\")[\"price\"].mean().nlargest(5)\n",
    "top_quartiers"
   ]
  },
  {
   "cell_type": "code",
   "execution_count": 24,
   "id": "830050f9",
   "metadata": {},
   "outputs": [
    {
     "data": {
      "text/plain": [
       "furnishingstatus\n",
       "furnished         5495696.000\n",
       "semi-furnished    4907524.229\n",
       "unfurnished       4013831.461\n",
       "Name: price, dtype: float64"
      ]
     },
     "execution_count": 24,
     "metadata": {},
     "output_type": "execute_result"
    }
   ],
   "source": [
    "prix_par_statut = data.groupby(\"furnishingstatus\")[\"price\"].mean().round(3)\n",
    "prix_par_statut"
   ]
  },
  {
   "cell_type": "code",
   "execution_count": 25,
   "id": "f63a12fa",
   "metadata": {},
   "outputs": [
    {
     "name": "stdout",
     "output_type": "stream",
     "text": [
      "Prix moyen avec climatisation : 6013220.5814\n",
      "Prix moyen avec sous-sol : 5242615.1832\n",
      "Prix moyen avec accès route principale : 4991777.3291\n"
     ]
    }
   ],
   "source": [
    "prix_clim = data[data[\"airconditioning\"] == \"yes\"][\"price\"].mean().round(4)\n",
    "prix_soussol = data[data[\"basement\"] == \"yes\"][\"price\"].mean().round(4)\n",
    "prix_mainroad = data[data[\"mainroad\"] == \"yes\"][\"price\"].mean().round(4)\n",
    "\n",
    "print(\"Prix moyen avec climatisation :\", prix_clim)\n",
    "print(\"Prix moyen avec sous-sol :\", prix_soussol)\n",
    "print(\"Prix moyen avec accès route principale :\", prix_mainroad)"
   ]
  },
  {
   "cell_type": "code",
   "execution_count": 27,
   "id": "526bf744",
   "metadata": {},
   "outputs": [
    {
     "data": {
      "text/plain": [
       "stories\n",
       "1    4.170659e+06\n",
       "2    4.764074e+06\n",
       "3    5.685436e+06\n",
       "4    7.208450e+06\n",
       "Name: price, dtype: float64"
      ]
     },
     "execution_count": 27,
     "metadata": {},
     "output_type": "execute_result"
    }
   ],
   "source": [
    "prix_par_etage = data.groupby(\"stories\")[\"price\"].mean().round(4)\n",
    "(prix_par_etage)"
   ]
  },
  {
   "cell_type": "code",
   "execution_count": null,
   "id": "d71dff6e",
   "metadata": {},
   "outputs": [
    {
     "data": {
      "image/png": "[encoded data removed]",
      "text/plain": [
       "<Figure size 640x480 with 1 Axes>"
      ]
     },
     "metadata": {},
     "output_type": "display_data"
    }
   ],
   "source": []
  }
 ],
 "metadata": {
  "kernelspec": {
   "display_name": "deep_env",
   "language": "python",
   "name": "python3"
  },
  "language_info": {
   "codemirror_mode": {
    "name": "ipython",
    "version": 3
   },
   "file_extension": ".py",
   "mimetype": "text/x-python",
   "name": "python",
   "nbconvert_exporter": "python",
   "pygments_lexer": "ipython3",
   "version": "3.12.9"
  }
 },
 "nbformat": 4,
 "nbformat_minor": 5
}
