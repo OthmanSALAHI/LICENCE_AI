{
 "cells": [
  {
   "cell_type": "markdown",
   "id": "8cee4f5f",
   "metadata": {},
   "source": [
    "# TP1 : Plateforme et Environnements pour le Deep Learning"
   ]
  },
  {
   "cell_type": "markdown",
   "id": "e45285fe",
   "metadata": {},
   "source": [
    "# Introduction"
   ]
  },
  {
   "cell_type": "markdown",
   "id": "48cb1846",
   "metadata": {},
   "source": [
    "Dans ce tutoriel, nous allons explorer les environnements adaptés au Deep Learning, installer et configurer les bibliothèques essentielles sous Anaconda, et apprendre à utiliser Google Colab et Kaggle pour exécuter du code sur GPU. \n",
    "\n",
    "Ce TP vous guidera egalement à travers la manipulation de tensors et d'éléments essentiels dans trois frameworks populaires : TensorFlow, Keras et PyTorch. Nous allons résoudre les problèmes suivants :\n",
    "\n",
    "- Comprendre la création, la manipulation et les opérations fondamentales sur les tensors.\n",
    "- Identifier les différences de syntaxe et de bibliothèques entre les frameworks.\n",
    "- Acquérir les compétences nécessaires pour choisir le framework le plus adapté à une tâche donnée."
   ]
  },
  {
   "cell_type": "markdown",
   "id": "194a38b4",
   "metadata": {},
   "source": [
    "# Objectifs Pédagogiques"
   ]
  },
  {
   "cell_type": "markdown",
   "id": "fe8b1a7f",
   "metadata": {},
   "source": [
    "- Comprendre les environnements adaptés au Deep Learning.\n",
    "\n",
    "- Installer et configurer TensorFlow, Keras et PyTorch sous Anaconda.\n",
    "\n",
    "- Utiliser Google Colab et Kaggle pour exécuter du code sur GPU.\n",
    "\n",
    "- Maîtriser la création et l'initialisation des tensors dans TensorFlow, Keras et PyTorch.\n",
    "\n",
    "- Effectuer des opérations mathématiques et des transformations de base sur les tensors.\n",
    "\n",
    "- Comprendre et manipuler les dimensions (shape) des tensors."
   ]
  },
  {
   "cell_type": "markdown",
   "id": "32fec431",
   "metadata": {},
   "source": [
    "# Prérequis"
   ]
  },
  {
   "cell_type": "markdown",
   "id": "962f223d",
   "metadata": {},
   "source": [
    "📌 Anaconda installé.\n",
    "\n",
    "📌 Connaissances de base en Python et Jupyter Notebook.\n",
    "\n",
    "📌 Un compte Google (pour Google Colab) et un compte Kaggle.\n"
   ]
  },
  {
   "cell_type": "markdown",
   "id": "6e24c378",
   "metadata": {},
   "source": [
    "# Partie 1 : Installation et Configuration de l’Environnement Local"
   ]
  },
  {
   "cell_type": "markdown",
   "id": "1b4ea323",
   "metadata": {},
   "source": [
    "## 1.1 Installation d'Anaconda"
   ]
  },
  {
   "cell_type": "markdown",
   "id": "d4d8c31a",
   "metadata": {},
   "source": [
    "Téléchargez Anaconda : https://www.anaconda.com/download/success\n",
    "\n",
    "Installez la version correspondant à votre OS."
   ]
  },
  {
   "cell_type": "markdown",
   "id": "1af8098f",
   "metadata": {},
   "source": [
    "## 1.2 Création d'un environnement "
   ]
  },
  {
   "cell_type": "markdown",
   "id": "f83dc8bf",
   "metadata": {},
   "source": [
    "Ouvrez Anaconda Prompt et exécutez :"
   ]
  },
  {
   "cell_type": "code",
   "execution_count": 4,
   "id": "711f5b10",
   "metadata": {},
   "outputs": [
    {
     "ename": "SyntaxError",
     "evalue": "invalid syntax (3326130870.py, line 1)",
     "output_type": "error",
     "traceback": [
      "\u001b[1;36m  Cell \u001b[1;32mIn[4], line 1\u001b[1;36m\u001b[0m\n\u001b[1;33m    conda create --name deep_env python=3.8\u001b[0m\n\u001b[1;37m          ^\u001b[0m\n\u001b[1;31mSyntaxError\u001b[0m\u001b[1;31m:\u001b[0m invalid syntax\n"
     ]
    }
   ],
   "source": [
    "conda create --name deep_env python=3.8\n",
    "conda activate deep_env"
   ]
  },
  {
   "cell_type": "markdown",
   "id": "5ee1d6aa",
   "metadata": {},
   "source": [
    "## 1.3 Installation des Bibliothèques"
   ]
  },
  {
   "cell_type": "markdown",
   "id": "2a0ea138",
   "metadata": {},
   "source": [
    "Installez TensorFlow, Keras et PyTorch :"
   ]
  },
  {
   "cell_type": "code",
   "execution_count": null,
   "id": "d9b568e0",
   "metadata": {},
   "outputs": [],
   "source": [
    "pip install tensorflow keras torch torchvision torchaudio numpy pandas matplotlib seaborn"
   ]
  },
  {
   "cell_type": "markdown",
   "id": "7183b661",
   "metadata": {},
   "source": [
    "## 1.4 Vérification de l'Installation\n",
    "\n",
    "Dans un terminal ou un Notebook Python :"
   ]
  },
  {
   "cell_type": "code",
   "execution_count": null,
   "id": "066eb494",
   "metadata": {},
   "outputs": [
    {
     "name": "stdout",
     "output_type": "stream",
     "text": [
      "TensorFlow version: 2.18.0\n",
      "PyTorch version: 2.6.0+cpu\n"
     ]
    }
   ],
   "source": [
    "import tensorflow as tf\n",
    "import torch\n",
    "print(\"TensorFlow version:\", tf.__version__)\n",
    "print(\"PyTorch version:\", torch.__version__)"
   ]
  },
  {
   "cell_type": "markdown",
   "id": "6c3b6999",
   "metadata": {},
   "source": [
    "# Partie 2 :  Exécution sur Google Colab"
   ]
  },
  {
   "cell_type": "markdown",
   "id": "7c2e0343",
   "metadata": {},
   "source": [
    "## 2.1 Ouvrir Google Colab\n",
    "\n",
    "Accédez à https://colab.research.google.com/\n",
    "\n",
    "Créez un nouveau notebook.\n",
    "\n",
    "## 2.2 Activer le GPU\n",
    "\n",
    "Allez dans Exécution > Modifier le type d’exécution.\n",
    "\n",
    "Sélectionnez GPU et validez.\n",
    "\n",
    "## 2.3 Tester TensorFlow et PyTorch sur Colab\n",
    "\n",
    "Ajoutez cette cellule et exécutez :"
   ]
  },
  {
   "cell_type": "code",
   "execution_count": null,
   "id": "f1db9825",
   "metadata": {},
   "outputs": [
    {
     "name": "stdout",
     "output_type": "stream",
     "text": [
      "GPU TensorFlow : []\n",
      "GPU PyTorch : False\n"
     ]
    }
   ],
   "source": [
    "import tensorflow as tf\n",
    "import torch\n",
    "print(\"GPU TensorFlow :\", tf.config.list_physical_devices('GPU'))\n",
    "print(\"GPU PyTorch :\", torch.cuda.is_available())\n"
   ]
  },
  {
   "cell_type": "markdown",
   "id": "50cf5a0f",
   "metadata": {},
   "source": [
    "# Partie 3 : Utilisation de Kaggle pour le Deep Learning\n",
    "\n",
    "## 3.1 Créer un compte Kaggle\n",
    "\n",
    "Rendez-vous sur https://www.kaggle.com/ et créez un compte.\n",
    "\n",
    "## 3.2 Ouvrir un Notebook Kaggle\n",
    "\n",
    "Cliquez sur New Notebook.\n",
    "\n",
    "Activez le GPU dans les paramètres du Notebook.\n",
    "\n",
    "## 3.3 Charger un Dataset Kaggle et Tester TensorFlow/PyTorch\n",
    "\n",
    "Ajoutez cette cellule et exécutez :"
   ]
  },
  {
   "cell_type": "code",
   "execution_count": null,
   "id": "7ed776f7",
   "metadata": {},
   "outputs": [
    {
     "ename": "FileNotFoundError",
     "evalue": "[Errno 2] No such file or directory: '/kaggle/input/titanic/train.csv'",
     "output_type": "error",
     "traceback": [
      "\u001b[1;31m---------------------------------------------------------------------------\u001b[0m",
      "\u001b[1;31mFileNotFoundError\u001b[0m                         Traceback (most recent call last)",
      "Cell \u001b[1;32mIn[6], line 5\u001b[0m\n\u001b[0;32m      2\u001b[0m \u001b[38;5;28;01mimport\u001b[39;00m\u001b[38;5;250m \u001b[39m\u001b[38;5;21;01mtorch\u001b[39;00m\n\u001b[0;32m      3\u001b[0m \u001b[38;5;28;01mimport\u001b[39;00m\u001b[38;5;250m \u001b[39m\u001b[38;5;21;01mpandas\u001b[39;00m\u001b[38;5;250m \u001b[39m\u001b[38;5;28;01mas\u001b[39;00m\u001b[38;5;250m \u001b[39m\u001b[38;5;21;01mpd\u001b[39;00m\n\u001b[1;32m----> 5\u001b[0m df \u001b[38;5;241m=\u001b[39m pd\u001b[38;5;241m.\u001b[39mread_csv(\u001b[38;5;124m\"\u001b[39m\u001b[38;5;124m/kaggle/input/titanic/train.csv\u001b[39m\u001b[38;5;124m\"\u001b[39m)\n\u001b[0;32m      6\u001b[0m \u001b[38;5;28mprint\u001b[39m(df\u001b[38;5;241m.\u001b[39mhead())\n",
      "File \u001b[1;32m~\\AppData\\Roaming\\Python\\Python312\\site-packages\\pandas\\io\\parsers\\readers.py:1026\u001b[0m, in \u001b[0;36mread_csv\u001b[1;34m(filepath_or_buffer, sep, delimiter, header, names, index_col, usecols, dtype, engine, converters, true_values, false_values, skipinitialspace, skiprows, skipfooter, nrows, na_values, keep_default_na, na_filter, verbose, skip_blank_lines, parse_dates, infer_datetime_format, keep_date_col, date_parser, date_format, dayfirst, cache_dates, iterator, chunksize, compression, thousands, decimal, lineterminator, quotechar, quoting, doublequote, escapechar, comment, encoding, encoding_errors, dialect, on_bad_lines, delim_whitespace, low_memory, memory_map, float_precision, storage_options, dtype_backend)\u001b[0m\n\u001b[0;32m   1013\u001b[0m kwds_defaults \u001b[38;5;241m=\u001b[39m _refine_defaults_read(\n\u001b[0;32m   1014\u001b[0m     dialect,\n\u001b[0;32m   1015\u001b[0m     delimiter,\n\u001b[1;32m   (...)\u001b[0m\n\u001b[0;32m   1022\u001b[0m     dtype_backend\u001b[38;5;241m=\u001b[39mdtype_backend,\n\u001b[0;32m   1023\u001b[0m )\n\u001b[0;32m   1024\u001b[0m kwds\u001b[38;5;241m.\u001b[39mupdate(kwds_defaults)\n\u001b[1;32m-> 1026\u001b[0m \u001b[38;5;28;01mreturn\u001b[39;00m _read(filepath_or_buffer, kwds)\n",
      "File \u001b[1;32m~\\AppData\\Roaming\\Python\\Python312\\site-packages\\pandas\\io\\parsers\\readers.py:620\u001b[0m, in \u001b[0;36m_read\u001b[1;34m(filepath_or_buffer, kwds)\u001b[0m\n\u001b[0;32m    617\u001b[0m _validate_names(kwds\u001b[38;5;241m.\u001b[39mget(\u001b[38;5;124m\"\u001b[39m\u001b[38;5;124mnames\u001b[39m\u001b[38;5;124m\"\u001b[39m, \u001b[38;5;28;01mNone\u001b[39;00m))\n\u001b[0;32m    619\u001b[0m \u001b[38;5;66;03m# Create the parser.\u001b[39;00m\n\u001b[1;32m--> 620\u001b[0m parser \u001b[38;5;241m=\u001b[39m TextFileReader(filepath_or_buffer, \u001b[38;5;241m*\u001b[39m\u001b[38;5;241m*\u001b[39mkwds)\n\u001b[0;32m    622\u001b[0m \u001b[38;5;28;01mif\u001b[39;00m chunksize \u001b[38;5;129;01mor\u001b[39;00m iterator:\n\u001b[0;32m    623\u001b[0m     \u001b[38;5;28;01mreturn\u001b[39;00m parser\n",
      "File \u001b[1;32m~\\AppData\\Roaming\\Python\\Python312\\site-packages\\pandas\\io\\parsers\\readers.py:1620\u001b[0m, in \u001b[0;36mTextFileReader.__init__\u001b[1;34m(self, f, engine, **kwds)\u001b[0m\n\u001b[0;32m   1617\u001b[0m     \u001b[38;5;28mself\u001b[39m\u001b[38;5;241m.\u001b[39moptions[\u001b[38;5;124m\"\u001b[39m\u001b[38;5;124mhas_index_names\u001b[39m\u001b[38;5;124m\"\u001b[39m] \u001b[38;5;241m=\u001b[39m kwds[\u001b[38;5;124m\"\u001b[39m\u001b[38;5;124mhas_index_names\u001b[39m\u001b[38;5;124m\"\u001b[39m]\n\u001b[0;32m   1619\u001b[0m \u001b[38;5;28mself\u001b[39m\u001b[38;5;241m.\u001b[39mhandles: IOHandles \u001b[38;5;241m|\u001b[39m \u001b[38;5;28;01mNone\u001b[39;00m \u001b[38;5;241m=\u001b[39m \u001b[38;5;28;01mNone\u001b[39;00m\n\u001b[1;32m-> 1620\u001b[0m \u001b[38;5;28mself\u001b[39m\u001b[38;5;241m.\u001b[39m_engine \u001b[38;5;241m=\u001b[39m \u001b[38;5;28mself\u001b[39m\u001b[38;5;241m.\u001b[39m_make_engine(f, \u001b[38;5;28mself\u001b[39m\u001b[38;5;241m.\u001b[39mengine)\n",
      "File \u001b[1;32m~\\AppData\\Roaming\\Python\\Python312\\site-packages\\pandas\\io\\parsers\\readers.py:1880\u001b[0m, in \u001b[0;36mTextFileReader._make_engine\u001b[1;34m(self, f, engine)\u001b[0m\n\u001b[0;32m   1878\u001b[0m     \u001b[38;5;28;01mif\u001b[39;00m \u001b[38;5;124m\"\u001b[39m\u001b[38;5;124mb\u001b[39m\u001b[38;5;124m\"\u001b[39m \u001b[38;5;129;01mnot\u001b[39;00m \u001b[38;5;129;01min\u001b[39;00m mode:\n\u001b[0;32m   1879\u001b[0m         mode \u001b[38;5;241m+\u001b[39m\u001b[38;5;241m=\u001b[39m \u001b[38;5;124m\"\u001b[39m\u001b[38;5;124mb\u001b[39m\u001b[38;5;124m\"\u001b[39m\n\u001b[1;32m-> 1880\u001b[0m \u001b[38;5;28mself\u001b[39m\u001b[38;5;241m.\u001b[39mhandles \u001b[38;5;241m=\u001b[39m get_handle(\n\u001b[0;32m   1881\u001b[0m     f,\n\u001b[0;32m   1882\u001b[0m     mode,\n\u001b[0;32m   1883\u001b[0m     encoding\u001b[38;5;241m=\u001b[39m\u001b[38;5;28mself\u001b[39m\u001b[38;5;241m.\u001b[39moptions\u001b[38;5;241m.\u001b[39mget(\u001b[38;5;124m\"\u001b[39m\u001b[38;5;124mencoding\u001b[39m\u001b[38;5;124m\"\u001b[39m, \u001b[38;5;28;01mNone\u001b[39;00m),\n\u001b[0;32m   1884\u001b[0m     compression\u001b[38;5;241m=\u001b[39m\u001b[38;5;28mself\u001b[39m\u001b[38;5;241m.\u001b[39moptions\u001b[38;5;241m.\u001b[39mget(\u001b[38;5;124m\"\u001b[39m\u001b[38;5;124mcompression\u001b[39m\u001b[38;5;124m\"\u001b[39m, \u001b[38;5;28;01mNone\u001b[39;00m),\n\u001b[0;32m   1885\u001b[0m     memory_map\u001b[38;5;241m=\u001b[39m\u001b[38;5;28mself\u001b[39m\u001b[38;5;241m.\u001b[39moptions\u001b[38;5;241m.\u001b[39mget(\u001b[38;5;124m\"\u001b[39m\u001b[38;5;124mmemory_map\u001b[39m\u001b[38;5;124m\"\u001b[39m, \u001b[38;5;28;01mFalse\u001b[39;00m),\n\u001b[0;32m   1886\u001b[0m     is_text\u001b[38;5;241m=\u001b[39mis_text,\n\u001b[0;32m   1887\u001b[0m     errors\u001b[38;5;241m=\u001b[39m\u001b[38;5;28mself\u001b[39m\u001b[38;5;241m.\u001b[39moptions\u001b[38;5;241m.\u001b[39mget(\u001b[38;5;124m\"\u001b[39m\u001b[38;5;124mencoding_errors\u001b[39m\u001b[38;5;124m\"\u001b[39m, \u001b[38;5;124m\"\u001b[39m\u001b[38;5;124mstrict\u001b[39m\u001b[38;5;124m\"\u001b[39m),\n\u001b[0;32m   1888\u001b[0m     storage_options\u001b[38;5;241m=\u001b[39m\u001b[38;5;28mself\u001b[39m\u001b[38;5;241m.\u001b[39moptions\u001b[38;5;241m.\u001b[39mget(\u001b[38;5;124m\"\u001b[39m\u001b[38;5;124mstorage_options\u001b[39m\u001b[38;5;124m\"\u001b[39m, \u001b[38;5;28;01mNone\u001b[39;00m),\n\u001b[0;32m   1889\u001b[0m )\n\u001b[0;32m   1890\u001b[0m \u001b[38;5;28;01massert\u001b[39;00m \u001b[38;5;28mself\u001b[39m\u001b[38;5;241m.\u001b[39mhandles \u001b[38;5;129;01mis\u001b[39;00m \u001b[38;5;129;01mnot\u001b[39;00m \u001b[38;5;28;01mNone\u001b[39;00m\n\u001b[0;32m   1891\u001b[0m f \u001b[38;5;241m=\u001b[39m \u001b[38;5;28mself\u001b[39m\u001b[38;5;241m.\u001b[39mhandles\u001b[38;5;241m.\u001b[39mhandle\n",
      "File \u001b[1;32m~\\AppData\\Roaming\\Python\\Python312\\site-packages\\pandas\\io\\common.py:873\u001b[0m, in \u001b[0;36mget_handle\u001b[1;34m(path_or_buf, mode, encoding, compression, memory_map, is_text, errors, storage_options)\u001b[0m\n\u001b[0;32m    868\u001b[0m \u001b[38;5;28;01melif\u001b[39;00m \u001b[38;5;28misinstance\u001b[39m(handle, \u001b[38;5;28mstr\u001b[39m):\n\u001b[0;32m    869\u001b[0m     \u001b[38;5;66;03m# Check whether the filename is to be opened in binary mode.\u001b[39;00m\n\u001b[0;32m    870\u001b[0m     \u001b[38;5;66;03m# Binary mode does not support 'encoding' and 'newline'.\u001b[39;00m\n\u001b[0;32m    871\u001b[0m     \u001b[38;5;28;01mif\u001b[39;00m ioargs\u001b[38;5;241m.\u001b[39mencoding \u001b[38;5;129;01mand\u001b[39;00m \u001b[38;5;124m\"\u001b[39m\u001b[38;5;124mb\u001b[39m\u001b[38;5;124m\"\u001b[39m \u001b[38;5;129;01mnot\u001b[39;00m \u001b[38;5;129;01min\u001b[39;00m ioargs\u001b[38;5;241m.\u001b[39mmode:\n\u001b[0;32m    872\u001b[0m         \u001b[38;5;66;03m# Encoding\u001b[39;00m\n\u001b[1;32m--> 873\u001b[0m         handle \u001b[38;5;241m=\u001b[39m \u001b[38;5;28mopen\u001b[39m(\n\u001b[0;32m    874\u001b[0m             handle,\n\u001b[0;32m    875\u001b[0m             ioargs\u001b[38;5;241m.\u001b[39mmode,\n\u001b[0;32m    876\u001b[0m             encoding\u001b[38;5;241m=\u001b[39mioargs\u001b[38;5;241m.\u001b[39mencoding,\n\u001b[0;32m    877\u001b[0m             errors\u001b[38;5;241m=\u001b[39merrors,\n\u001b[0;32m    878\u001b[0m             newline\u001b[38;5;241m=\u001b[39m\u001b[38;5;124m\"\u001b[39m\u001b[38;5;124m\"\u001b[39m,\n\u001b[0;32m    879\u001b[0m         )\n\u001b[0;32m    880\u001b[0m     \u001b[38;5;28;01melse\u001b[39;00m:\n\u001b[0;32m    881\u001b[0m         \u001b[38;5;66;03m# Binary mode\u001b[39;00m\n\u001b[0;32m    882\u001b[0m         handle \u001b[38;5;241m=\u001b[39m \u001b[38;5;28mopen\u001b[39m(handle, ioargs\u001b[38;5;241m.\u001b[39mmode)\n",
      "\u001b[1;31mFileNotFoundError\u001b[0m: [Errno 2] No such file or directory: '/kaggle/input/titanic/train.csv'"
     ]
    }
   ],
   "source": [
    "import tensorflow as tf\n",
    "import torch\n",
    "import pandas as pd\n",
    "\n",
    "df = pd.read_csv(\"/kaggle/input/titanic/train.csv\")\n",
    "print(df.head())\n"
   ]
  },
  {
   "cell_type": "markdown",
   "id": "983229d4",
   "metadata": {},
   "source": [
    "# Partie 4 : Manipulation des Tenseurs avec TensorFlow, Keras et PyTorch"
   ]
  },
  {
   "cell_type": "markdown",
   "id": "f2f00772",
   "metadata": {},
   "source": [
    "## Étape 1: Création et Initialisation des Tensors\n",
    "\n",
    "Cette section explore la création de tensors dans les trois frameworks. Les tensors sont les structures de données fondamentales, peuvent être créés à partir de listes Python, de tableaux NumPy, ou initialisés avec des valeurs spécifiques (zéros, uns, valeurs aléatoires).\n",
    "\n",
    "### TensorFlow"
   ]
  },
  {
   "cell_type": "code",
   "execution_count": null,
   "id": "6a0b6132",
   "metadata": {
    "collapsed": true
   },
   "outputs": [
    {
     "name": "stdout",
     "output_type": "stream",
     "text": [
      "TensorFlow (List): [1 2 3 4 5]\n"
     ]
    }
   ],
   "source": [
    "import tensorflow as tf\n",
    "import numpy as np\n",
    "\n",
    "# Création à partir d'une liste Python\n",
    "tensor_tf_list = tf.constant([1, 2, 3, 4, 5])\n",
    "print(f\"TensorFlow (List): {tensor_tf_list}\")"
   ]
  },
  {
   "cell_type": "code",
   "execution_count": null,
   "id": "bdc38ae0",
   "metadata": {
    "collapsed": true
   },
   "outputs": [
    {
     "name": "stdout",
     "output_type": "stream",
     "text": [
      "TensorFlow (NumPy): [[1 2]\n",
      " [3 4]]\n"
     ]
    }
   ],
   "source": [
    "# Création à partir d'un tableau NumPy\n",
    "array_np = np.array([[1, 2], [3, 4]])\n",
    "tensor_tf_np = tf.constant(array_np)\n",
    "print(f\"TensorFlow (NumPy): {tensor_tf_np}\")"
   ]
  },
  {
   "cell_type": "code",
   "execution_count": null,
   "id": "07077017",
   "metadata": {
    "collapsed": true
   },
   "outputs": [
    {
     "name": "stdout",
     "output_type": "stream",
     "text": [
      "TensorFlow (Zeros): [[0. 0. 0.]\n",
      " [0. 0. 0.]]\n",
      "TensorFlow (Ones): [[1. 1.]\n",
      " [1. 1.]\n",
      " [1. 1.]]\n",
      "TensorFlow (Random Normal): [[ 0.47649166 -0.39970866]\n",
      " [-0.6928633  -0.22486426]]\n"
     ]
    }
   ],
   "source": [
    "# Initialisation avec des valeurs spécifiques\n",
    "zeros_tf = tf.zeros((2, 3))\n",
    "ones_tf = tf.ones((3, 2))\n",
    "random_tf = tf.random.normal((2, 2))\n",
    "\n",
    "print(f\"TensorFlow (Zeros): {zeros_tf}\")\n",
    "print(f\"TensorFlow (Ones): {ones_tf}\")\n",
    "print(f\"TensorFlow (Random Normal): {random_tf}\")"
   ]
  },
  {
   "cell_type": "markdown",
   "id": "5f3a6fe1",
   "metadata": {},
   "source": [
    "Fonctions importantes (TensorFlow):\n",
    "\n",
    "- tf.constant(value, dtype=None): Crée un tensor constant à partir d'une valeur (liste, NumPy array, etc.).\n",
    "\n",
    "- tf.zeros(shape, dtype=tf.float32): Crée un tensor rempli de zéros avec la forme spécifiée.\n",
    "\n",
    "- tf.ones(shape, dtype=tf.float32): Crée un tensor rempli d'uns avec la forme spécifiée.\n",
    "\n",
    "- tf.random.normal(shape, mean=0.0, stddev=1.0, dtype=tf.float32): Crée un tensor rempli de valeurs aléatoires suivant une distribution normale."
   ]
  },
  {
   "cell_type": "markdown",
   "id": "24362606",
   "metadata": {},
   "source": [
    "### Keras\n",
    "\n",
    "Bien que Keras soit souvent utilisé comme une API de haut niveau, il utilise TensorFlow comme backend pour les opérations de bas niveau. Nous allons illustrer l'utilisation des tensors directement dans Keras, même si c'est moins courant."
   ]
  },
  {
   "cell_type": "code",
   "execution_count": null,
   "id": "2277eb79",
   "metadata": {
    "collapsed": true
   },
   "outputs": [
    {
     "name": "stdout",
     "output_type": "stream",
     "text": [
      "Keras (TensorFlow Tensor): [ 6  7  8  9 10]\n"
     ]
    }
   ],
   "source": [
    "import tensorflow as tf\n",
    "from tensorflow import keras\n",
    "import numpy as np\n",
    "\n",
    "# Keras utilise les tensors TensorFlow sous le capot\n",
    "tensor_keras = tf.constant([6, 7, 8, 9, 10])\n",
    "print(f\"Keras (TensorFlow Tensor): {tensor_keras}\")"
   ]
  },
  {
   "cell_type": "code",
   "execution_count": null,
   "id": "bdbca9c6",
   "metadata": {
    "collapsed": true
   },
   "outputs": [
    {
     "name": "stdout",
     "output_type": "stream",
     "text": [
      "Keras Variable: <tf.Variable 'Variable:0' shape=(2, 2) dtype=float32, numpy=\n",
      "array([[-0.60380626,  0.8554252 ],\n",
      "       [-0.20407018, -0.74976176]], dtype=float32)>\n"
     ]
    }
   ],
   "source": [
    "# Variables Keras (utile pour les paramètres entraînables)\n",
    "variable_keras = tf.Variable(tf.random.normal((2, 2)))\n",
    "print(f\"Keras Variable: {variable_keras}\")"
   ]
  },
  {
   "cell_type": "markdown",
   "id": "94b650b1",
   "metadata": {},
   "source": [
    "Fonctions importantes (Keras):\n",
    "\n",
    "- tf.Variable(initial_value, trainable=True): Crée une variable (tensor mutable) qui peut être entraînée."
   ]
  },
  {
   "cell_type": "markdown",
   "id": "c1351d8e",
   "metadata": {},
   "source": [
    "### Pytorch"
   ]
  },
  {
   "cell_type": "code",
   "execution_count": null,
   "id": "ae793a61",
   "metadata": {
    "collapsed": true
   },
   "outputs": [
    {
     "name": "stdout",
     "output_type": "stream",
     "text": [
      "PyTorch (List): tensor([1, 2, 3, 4, 5])\n"
     ]
    }
   ],
   "source": [
    "import torch\n",
    "import numpy as np\n",
    "\n",
    "# Création à partir d'une liste Python\n",
    "tensor_torch_list = torch.tensor([1, 2, 3, 4, 5])\n",
    "print(f\"PyTorch (List): {tensor_torch_list}\")"
   ]
  },
  {
   "cell_type": "code",
   "execution_count": null,
   "id": "34a6fbfc",
   "metadata": {
    "collapsed": true
   },
   "outputs": [
    {
     "name": "stdout",
     "output_type": "stream",
     "text": [
      "PyTorch (NumPy): tensor([[1, 2],\n",
      "        [3, 4]], dtype=torch.int32)\n"
     ]
    }
   ],
   "source": [
    "# Création à partir d'un tableau NumPy\n",
    "array_np = np.array([[1, 2], [3, 4]])\n",
    "tensor_torch_np = torch.tensor(array_np)\n",
    "print(f\"PyTorch (NumPy): {tensor_torch_np}\")"
   ]
  },
  {
   "cell_type": "code",
   "execution_count": null,
   "id": "95092d6f",
   "metadata": {
    "collapsed": true
   },
   "outputs": [
    {
     "name": "stdout",
     "output_type": "stream",
     "text": [
      "PyTorch (Zeros): tensor([[0., 0., 0.],\n",
      "        [0., 0., 0.]])\n",
      "PyTorch (Ones): tensor([[1., 1.],\n",
      "        [1., 1.],\n",
      "        [1., 1.]])\n",
      "PyTorch (Random Normal): tensor([[ 0.4089, -0.5634],\n",
      "        [-1.3637,  0.8423]])\n"
     ]
    }
   ],
   "source": [
    "# Initialisation avec des valeurs spécifiques\n",
    "zeros_torch = torch.zeros((2, 3))\n",
    "ones_torch = torch.ones((3, 2))\n",
    "random_torch = torch.randn((2, 2))\n",
    "\n",
    "print(f\"PyTorch (Zeros): {zeros_torch}\")\n",
    "print(f\"PyTorch (Ones): {ones_torch}\")\n",
    "print(f\"PyTorch (Random Normal): {random_torch}\")"
   ]
  },
  {
   "cell_type": "markdown",
   "id": "025fac38",
   "metadata": {},
   "source": [
    "Fonctions importantes (PyTorch):\n",
    "\n",
    "- torch.tensor(data, dtype=None): Crée un tensor à partir de données (liste, NumPy array, etc.).\n",
    "\n",
    "- torch.zeros(size, dtype=torch.float32): Crée un tensor rempli de zéros avec la taille spécifiée.\n",
    "\n",
    "- torch.ones(size, dtype=torch.float32): Crée un tensor rempli d'uns avec la taille spécifiée.\n",
    "\n",
    "- torch.randn(size, dtype=torch.float32): Crée un tensor rempli de valeurs aléatoires suivant une distribution normale."
   ]
  },
  {
   "cell_type": "markdown",
   "id": "f7a638a7",
   "metadata": {},
   "source": [
    "### Exercice 1: Création de Tensors\n",
    "\n",
    "1. Créez un tensor 3x3 rempli de la valeur 7 dans TensorFlow, Keras et PyTorch.\n",
    "\n",
    "2. Créez un tensor 4x2 rempli de valeurs aléatoires uniformément distribuées entre 0 et 1 dans chaque framework."
   ]
  },
  {
   "cell_type": "code",
   "execution_count": null,
   "id": "aca8e560",
   "metadata": {},
   "outputs": [],
   "source": []
  },
  {
   "cell_type": "markdown",
   "id": "cbb6c2ab",
   "metadata": {},
   "source": [
    "## Étape 2: Opérations sur les Tensors\n",
    "Cette section couvre les opérations mathématiques de base sur les tensors, ainsi que le redimensionnement et la concaténation.\n",
    "\n",
    "### TensorFlow"
   ]
  },
  {
   "cell_type": "code",
   "execution_count": null,
   "id": "d2287363",
   "metadata": {
    "collapsed": true
   },
   "outputs": [
    {
     "name": "stdout",
     "output_type": "stream",
     "text": [
      "tf.Tensor(\n",
      "[[1 2]\n",
      " [3 4]], shape=(2, 2), dtype=int32)\n"
     ]
    }
   ],
   "source": [
    "import tensorflow as tf\n",
    "\n",
    "tensor_a_tf = tf.constant([[1, 2], [3, 4]])\n",
    "print(tensor_a_tf)"
   ]
  },
  {
   "cell_type": "code",
   "execution_count": null,
   "id": "5e8cdfc6",
   "metadata": {
    "collapsed": true
   },
   "outputs": [
    {
     "name": "stdout",
     "output_type": "stream",
     "text": [
      "tf.Tensor(\n",
      "[[5 6]\n",
      " [7 8]], shape=(2, 2), dtype=int32)\n"
     ]
    }
   ],
   "source": [
    "tensor_b_tf = tf.constant([[5, 6], [7, 8]])\n",
    "print(tensor_b_tf)"
   ]
  },
  {
   "cell_type": "code",
   "execution_count": null,
   "id": "31d4a0af",
   "metadata": {
    "collapsed": true
   },
   "outputs": [
    {
     "name": "stdout",
     "output_type": "stream",
     "text": [
      "TensorFlow (Addition): [[ 6  8]\n",
      " [10 12]]\n"
     ]
    }
   ],
   "source": [
    "# Addition et Multiplication\n",
    "add_tf = tf.add(tensor_a_tf, tensor_b_tf)\n",
    "print(f\"TensorFlow (Addition): {add_tf}\")"
   ]
  },
  {
   "cell_type": "code",
   "execution_count": null,
   "id": "44ac2789",
   "metadata": {
    "collapsed": true
   },
   "outputs": [
    {
     "name": "stdout",
     "output_type": "stream",
     "text": [
      "TensorFlow (Element-wise Multiplication): [[ 5 12]\n",
      " [21 32]]\n"
     ]
    }
   ],
   "source": [
    "multiply_tf = tf.multiply(tensor_a_tf, tensor_b_tf) #Element-wise multiplication\n",
    "print(f\"TensorFlow (Element-wise Multiplication): {multiply_tf}\")"
   ]
  },
  {
   "cell_type": "code",
   "execution_count": null,
   "id": "0a002774",
   "metadata": {
    "collapsed": true
   },
   "outputs": [
    {
     "name": "stdout",
     "output_type": "stream",
     "text": [
      "TensorFlow (Matmul): [[19 22]\n",
      " [43 50]]\n"
     ]
    }
   ],
   "source": [
    "# Produit matriciel\n",
    "matmul_tf = tf.matmul(tensor_a_tf, tensor_b_tf)\n",
    "print(f\"TensorFlow (Matmul): {matmul_tf}\")"
   ]
  },
  {
   "cell_type": "code",
   "execution_count": null,
   "id": "ed3e33c7",
   "metadata": {
    "collapsed": true
   },
   "outputs": [
    {
     "ename": "NameError",
     "evalue": "name 'tensor_a_tf' is not defined",
     "output_type": "error",
     "traceback": [
      "\u001b[1;31m---------------------------------------------------------------------------\u001b[0m",
      "\u001b[1;31mNameError\u001b[0m                                 Traceback (most recent call last)",
      "Cell \u001b[1;32mIn[3], line 2\u001b[0m\n\u001b[0;32m      1\u001b[0m \u001b[38;5;66;03m# Redimensionnement\u001b[39;00m\n\u001b[1;32m----> 2\u001b[0m reshape_tf \u001b[38;5;241m=\u001b[39m tf\u001b[38;5;241m.\u001b[39mreshape(\u001b[43mtensor_a_tf\u001b[49m, (\u001b[38;5;241m4\u001b[39m, \u001b[38;5;241m1\u001b[39m))\n\u001b[0;32m      3\u001b[0m \u001b[38;5;28mprint\u001b[39m(\u001b[38;5;124mf\u001b[39m\u001b[38;5;124m\"\u001b[39m\u001b[38;5;124mTensorFlow (Reshape): \u001b[39m\u001b[38;5;132;01m{\u001b[39;00mreshape_tf\u001b[38;5;132;01m}\u001b[39;00m\u001b[38;5;124m\"\u001b[39m)\n",
      "\u001b[1;31mNameError\u001b[0m: name 'tensor_a_tf' is not defined"
     ]
    }
   ],
   "source": [
    "# Redimensionnement\n",
    "reshape_tf = tf.reshape(tensor_a_tf, (4, 1))\n",
    "print(f\"TensorFlow (Reshape): {reshape_tf}\")"
   ]
  },
  {
   "cell_type": "code",
   "execution_count": null,
   "id": "eb8e2531",
   "metadata": {
    "collapsed": true
   },
   "outputs": [
    {
     "name": "stdout",
     "output_type": "stream",
     "text": [
      "TensorFlow (Concatenation): [[1 2]\n",
      " [3 4]\n",
      " [5 6]\n",
      " [7 8]]\n"
     ]
    }
   ],
   "source": [
    "# Concaténation\n",
    "concat_tf = tf.concat([tensor_a_tf, tensor_b_tf], axis=0)  # Concaténation sur les lignes\n",
    "print(f\"TensorFlow (Concatenation): {concat_tf}\")"
   ]
  },
  {
   "cell_type": "markdown",
   "id": "fc0b6d24",
   "metadata": {},
   "source": [
    "### Keras"
   ]
  },
  {
   "cell_type": "code",
   "execution_count": null,
   "id": "1c093ad3",
   "metadata": {
    "collapsed": true
   },
   "outputs": [
    {
     "name": "stdout",
     "output_type": "stream",
     "text": [
      "Keras (Addition): [[ 6  8]\n",
      " [10 12]]\n",
      "Keras (Element-wise Multiplication): [[ 5 12]\n",
      " [21 32]]\n",
      "Keras (Matmul): [[19 22]\n",
      " [43 50]]\n",
      "Keras (Reshape): [[1]\n",
      " [2]\n",
      " [3]\n",
      " [4]]\n",
      "Keras (Concatenation): [[1 2]\n",
      " [3 4]\n",
      " [5 6]\n",
      " [7 8]]\n"
     ]
    }
   ],
   "source": [
    "import tensorflow as tf\n",
    "from tensorflow import keras\n",
    "\n",
    "# Keras utilise les fonctions TensorFlow\n",
    "tensor_a_keras = tf.constant([[1, 2], [3, 4]])\n",
    "tensor_b_keras = tf.constant([[5, 6], [7, 8]])\n",
    "\n",
    "add_keras = tf.add(tensor_a_keras, tensor_b_keras)\n",
    "multiply_keras = tf.multiply(tensor_a_keras, tensor_b_keras) #Element-wise multiplication\n",
    "matmul_keras = tf.matmul(tensor_a_keras, tensor_b_keras)\n",
    "reshape_keras = tf.reshape(tensor_a_keras, (4, 1))\n",
    "concat_keras = tf.concat([tensor_a_keras, tensor_b_keras], axis=0)\n",
    "\n",
    "print(f\"Keras (Addition): {add_keras}\")\n",
    "print(f\"Keras (Element-wise Multiplication): {multiply_keras}\")\n",
    "print(f\"Keras (Matmul): {matmul_keras}\")\n",
    "print(f\"Keras (Reshape): {reshape_keras}\")\n",
    "print(f\"Keras (Concatenation): {concat_keras}\")"
   ]
  },
  {
   "cell_type": "markdown",
   "id": "2b6645e7",
   "metadata": {},
   "source": [
    "### Pytorch"
   ]
  },
  {
   "cell_type": "code",
   "execution_count": null,
   "id": "ea65b714",
   "metadata": {
    "collapsed": true
   },
   "outputs": [
    {
     "name": "stdout",
     "output_type": "stream",
     "text": [
      "tensor([[1, 2],\n",
      "        [3, 4]])\n"
     ]
    }
   ],
   "source": [
    "import torch\n",
    "\n",
    "tensor_a_torch = torch.tensor([[1, 2], [3, 4]])\n",
    "print(tensor_a_torch)"
   ]
  },
  {
   "cell_type": "code",
   "execution_count": null,
   "id": "2670585f",
   "metadata": {
    "collapsed": true
   },
   "outputs": [
    {
     "name": "stdout",
     "output_type": "stream",
     "text": [
      "tensor([[5, 6],\n",
      "        [7, 8]])\n"
     ]
    }
   ],
   "source": [
    "tensor_b_torch = torch.tensor([[5, 6], [7, 8]])\n",
    "print(tensor_b_torch)"
   ]
  },
  {
   "cell_type": "code",
   "execution_count": null,
   "id": "06b81a0e",
   "metadata": {
    "collapsed": true
   },
   "outputs": [
    {
     "name": "stdout",
     "output_type": "stream",
     "text": [
      "PyTorch (Addition): tensor([[ 6,  8],\n",
      "        [10, 12]])\n"
     ]
    }
   ],
   "source": [
    "# Addition \n",
    "add_torch = torch.add(tensor_a_torch, tensor_b_torch)\n",
    "print(f\"PyTorch (Addition): {add_torch}\")"
   ]
  },
  {
   "cell_type": "code",
   "execution_count": null,
   "id": "22f402bf",
   "metadata": {
    "collapsed": true
   },
   "outputs": [
    {
     "name": "stdout",
     "output_type": "stream",
     "text": [
      "PyTorch (Element-wise Multiplication): tensor([[ 5, 12],\n",
      "        [21, 32]])\n"
     ]
    }
   ],
   "source": [
    "# Multiplication\n",
    "multiply_torch = torch.mul(tensor_a_torch, tensor_b_torch) #Element-wise multiplication\n",
    "print(f\"PyTorch (Element-wise Multiplication): {multiply_torch}\")"
   ]
  },
  {
   "cell_type": "code",
   "execution_count": null,
   "id": "54a738b9",
   "metadata": {
    "collapsed": true
   },
   "outputs": [
    {
     "name": "stdout",
     "output_type": "stream",
     "text": [
      "PyTorch (Matmul): tensor([[19, 22],\n",
      "        [43, 50]])\n"
     ]
    }
   ],
   "source": [
    "# Produit matriciel\n",
    "matmul_torch = torch.matmul(tensor_a_torch, tensor_b_torch)\n",
    "print(f\"PyTorch (Matmul): {matmul_torch}\")"
   ]
  },
  {
   "cell_type": "code",
   "execution_count": null,
   "id": "e4d7e9fa",
   "metadata": {
    "collapsed": true
   },
   "outputs": [
    {
     "name": "stdout",
     "output_type": "stream",
     "text": [
      "PyTorch (Reshape): tensor([[1],\n",
      "        [2],\n",
      "        [3],\n",
      "        [4]])\n"
     ]
    }
   ],
   "source": [
    "# Redimensionnement\n",
    "reshape_torch = tensor_a_torch.reshape((4, 1))\n",
    "print(f\"PyTorch (Reshape): {reshape_torch}\")"
   ]
  },
  {
   "cell_type": "code",
   "execution_count": null,
   "id": "8fe8509e",
   "metadata": {
    "collapsed": true
   },
   "outputs": [
    {
     "name": "stdout",
     "output_type": "stream",
     "text": [
      "PyTorch (Concatenation): tensor([[1, 2],\n",
      "        [3, 4],\n",
      "        [5, 6],\n",
      "        [7, 8]])\n"
     ]
    }
   ],
   "source": [
    "# Concaténation\n",
    "concat_torch = torch.cat([tensor_a_torch, tensor_b_torch], dim=0)  # Concaténation sur les lignes\n",
    "print(f\"PyTorch (Concatenation): {concat_torch}\")"
   ]
  },
  {
   "cell_type": "markdown",
   "id": "7a9554fd",
   "metadata": {},
   "source": [
    "### Exercice 2: Opérations et Transformations\n",
    "\n",
    "1. Créez deux matrices 2x2 et calculez leur produit matriciel dans chaque framework.\n",
    "2. Redimensionnez une matrice 3x4 en un vecteur de 12 éléments dans chaque framework.\n",
    "3. Concaténez deux vecteurs de taille 5 horizontalement (axis=1) dans chaque framework."
   ]
  },
  {
   "cell_type": "code",
   "execution_count": null,
   "id": "b5b8ad0c",
   "metadata": {},
   "outputs": [],
   "source": []
  },
  {
   "cell_type": "markdown",
   "id": "301988c1",
   "metadata": {},
   "source": [
    "## Étape 3: Dimensions (Shape) des Tensors\n",
    "La manipulation des dimensions (shape) est cruciale pour assurer la compatibilité entre les opérations. Cette section montre comment obtenir et modifier le shape d'un tensor.\n",
    "\n",
    "### TensorFlow"
   ]
  },
  {
   "cell_type": "code",
   "execution_count": null,
   "id": "53feb743",
   "metadata": {
    "collapsed": true
   },
   "outputs": [
    {
     "name": "stdout",
     "output_type": "stream",
     "text": [
      "TensorFlow (Shape): [2 3]\n",
      "TensorFlow (Reshaped): [[1 2]\n",
      " [3 4]\n",
      " [5 6]]\n"
     ]
    }
   ],
   "source": [
    "import tensorflow as tf\n",
    "\n",
    "tensor_tf = tf.constant([[1, 2, 3], [4, 5, 6]])\n",
    "\n",
    "# Obtenir le shape\n",
    "shape_tf = tf.shape(tensor_tf)\n",
    "print(f\"TensorFlow (Shape): {shape_tf}\")\n",
    "\n",
    "# Redimensionner\n",
    "reshaped_tf = tf.reshape(tensor_tf, (3, 2))\n",
    "print(f\"TensorFlow (Reshaped): {reshaped_tf}\")"
   ]
  },
  {
   "cell_type": "markdown",
   "id": "6689db85",
   "metadata": {},
   "source": [
    "### Keras"
   ]
  },
  {
   "cell_type": "code",
   "execution_count": null,
   "id": "3b9be6f3",
   "metadata": {
    "collapsed": true
   },
   "outputs": [
    {
     "name": "stdout",
     "output_type": "stream",
     "text": [
      "Keras (Shape): [2 3]\n",
      "Keras (Reshaped): [[1 2]\n",
      " [3 4]\n",
      " [5 6]]\n"
     ]
    }
   ],
   "source": [
    "import tensorflow as tf\n",
    "from tensorflow import keras\n",
    "\n",
    "tensor_keras = tf.constant([[1, 2, 3], [4, 5, 6]])\n",
    "shape_keras = tf.shape(tensor_keras)\n",
    "print(f\"Keras (Shape): {shape_keras}\")\n",
    "\n",
    "reshaped_keras = tf.reshape(tensor_keras, (3, 2))\n",
    "print(f\"Keras (Reshaped): {reshaped_keras}\")"
   ]
  },
  {
   "cell_type": "markdown",
   "id": "382d2102",
   "metadata": {},
   "source": [
    "### PyTorch"
   ]
  },
  {
   "cell_type": "code",
   "execution_count": null,
   "id": "08086129",
   "metadata": {
    "collapsed": true
   },
   "outputs": [
    {
     "name": "stdout",
     "output_type": "stream",
     "text": [
      "PyTorch (Shape): torch.Size([2, 3])\n",
      "PyTorch (Reshaped): tensor([[1, 2],\n",
      "        [3, 4],\n",
      "        [5, 6]])\n"
     ]
    }
   ],
   "source": [
    "import torch\n",
    "\n",
    "tensor_torch = torch.tensor([[1, 2, 3], [4, 5, 6]])\n",
    "\n",
    "# Obtenir le shape\n",
    "shape_torch = tensor_torch.shape\n",
    "print(f\"PyTorch (Shape): {shape_torch}\")\n",
    "\n",
    "# Redimensionner\n",
    "reshaped_torch = tensor_torch.reshape((3, 2))\n",
    "print(f\"PyTorch (Reshaped): {reshaped_torch}\")"
   ]
  },
  {
   "cell_type": "markdown",
   "id": "f5e0fe98",
   "metadata": {},
   "source": [
    "### Exercice 3: Manipulation du Shape\n",
    "\n",
    "1. Créez un tensor 4x3x2 et affichez son shape dans chaque framework.\n",
    "2. Redimensionnez le tensor précédent en un tensor 2x12 dans chaque framework.\n",
    "3. Vérifiez que le nombre total d'éléments reste inchangé après le redimensionnement."
   ]
  },
  {
   "cell_type": "code",
   "execution_count": null,
   "id": "c3b88d6a",
   "metadata": {},
   "outputs": [],
   "source": []
  },
  {
   "cell_type": "markdown",
   "id": "8fb0ea4a",
   "metadata": {},
   "source": [
    "# Exercices Supplémentaires\n",
    "\n",
    "1. Implémentez une fonction qui normalise un tensor (met chaque valeur entre 0 et 1) dans chaque framework.\n",
    "2. Créez une fonction qui calcule la transposée d'une matrice dans chaque framework.\n",
    "3. Écrivez une fonction qui calcule la moyenne de tous les éléments d'un tensor dans chaque framework.\n"
   ]
  },
  {
   "cell_type": "markdown",
   "id": "28c1f689",
   "metadata": {},
   "source": [
    "# Conclusion"
   ]
  },
  {
   "cell_type": "markdown",
   "id": "67841a76",
   "metadata": {},
   "source": [
    "Ce TP a couvert les bases de la manipulation des tensors dans TensorFlow, Keras et PyTorch. Vous avez appris à créer, initialiser, opérer et transformer des tensors. Les exercices vous ont permis de pratiquer ces compétences et d'appréhender les différences entre les frameworks. Ces fondations sont essentielles pour aborder des concepts plus avancés, comme les réseaux de neurones.\n",
    "\n"
   ]
  },
  {
   "cell_type": "markdown",
   "id": "18a1ebf3",
   "metadata": {},
   "source": [
    "# FAQ"
   ]
  },
  {
   "cell_type": "markdown",
   "id": "63af6bb8",
   "metadata": {},
   "source": [
    "# Ressources Supplémentaires"
   ]
  },
  {
   "cell_type": "markdown",
   "id": "9c6ac817",
   "metadata": {},
   "source": [
    "📌 Documentation TensorFlow https://www.tensorflow.org/\n",
    "\n",
    "📌 Documentation PyTorch https://pytorch.org/\n",
    "\n",
    "📌 Tutoriels Google Colab https://colab.research.google.com/\n",
    "\n",
    "📌 Tutoriels Kaggle https://www.kaggle.com/learn"
   ]
  }
 ],
 "metadata": {
  "kernelspec": {
   "display_name": "deep_env",
   "language": "python",
   "name": "python3"
  },
  "language_info": {
   "codemirror_mode": {
    "name": "ipython",
    "version": 3
   },
   "file_extension": ".py",
   "mimetype": "text/x-python",
   "name": "python",
   "nbconvert_exporter": "python",
   "pygments_lexer": "ipython3",
   "version": "3.12.9"
  }
 },
 "nbformat": 4,
 "nbformat_minor": 5
}
