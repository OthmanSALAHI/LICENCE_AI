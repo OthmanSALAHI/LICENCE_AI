{
 "cells": [
  {
   "cell_type": "markdown",
   "id": "709849df-f57d-4973-896d-3d016ff38f03",
   "metadata": {
    "editable": true,
    "slideshow": {
     "slide_type": ""
    },
    "tags": []
   },
   "source": [
    "# TP: Fondamentaux des Tensors en Deep Learning (TensorFlow, Keras, PyTorch)"
   ]
  },
  {
   "cell_type": "markdown",
   "id": "4d419184",
   "metadata": {
    "editable": true,
    "slideshow": {
     "slide_type": ""
    },
    "tags": []
   },
   "source": [
    "\n",
    "\n",
    "## 1-Introduction au sujet\n",
    "----------\n",
    "Dans le domaine du Deep Learning, les tensors sont les structures de données fondamentales. Ce TP vous guidera à travers la manipulation de tensors et d'éléments essentiels dans trois frameworks populaires : TensorFlow, Keras et PyTorch. Nous allons résoudre les problèmes suivants :\n",
    "\n",
    "Comprendre la création, la manipulation et les opérations fondamentales sur les tensors.\n",
    "Identifier les différences de syntaxe et de bibliothèques entre les frameworks.\n",
    "Acquérir les compétences nécessaires pour choisir le framework le plus adapté à une tâche donnée.\n"
   ]
  },
  {
   "cell_type": "markdown",
   "id": "dd2f27e6-c571-497c-ab69-0ac82da3afc4",
   "metadata": {},
   "source": [
    "![Alt Text](Tensor-Datatype.jpg)"
   ]
  },
  {
   "cell_type": "markdown",
   "id": "e3fe268d-41be-49b7-8a6a-abe91cc6840b",
   "metadata": {},
   "source": [
    "Le code est à écrire en python3 à la suite des questions dans ce fichier. Vous appuierez soit sur le bouton *run cell*, soit sur les touches *Ctrl-Entrée*, à l’intérieur de la zone de saisie, pour lancer l'exécution de vos commandes. Si la commande est en cours d’exécution une étoile apparaît à côté de la zone de saisie de la commande : In [\\*]. Une fois le calcul achevé, l'étoile est remplacée par le numéro du run permettant de retrouver par la suite dans quel ordre ont été lancés chaque bloc. à regarder régulièrement la documentation de ces librairies, des exemples d'utilisation accompagnent généralement l'explication de chaque fonction."
   ]
  },
  {
   "cell_type": "markdown",
   "id": "e54c5773-743d-4fa3-aae4-14ae208c2869",
   "metadata": {
    "editable": true,
    "slideshow": {
     "slide_type": ""
    },
    "tags": []
   },
   "source": [
    "## 2-Objectifs Pédagogiques\n",
    "\n",
    "- Maîtriser la création et l'initialisation des tensors dans TensorFlow, Keras et PyTorch.\n",
    "- Effectuer des opérations mathématiques et des transformations de base sur les tensors.\n",
    "- Comprendre et manipuler les dimensions (shape) des tensors.\n",
    "- Appréhender les différences de syntaxe et de bibliothèques entre les frameworks.\n",
    "- Être capable de choisir un framework en fonction des besoins d'un projet."
   ]
  },
  {
   "cell_type": "markdown",
   "id": "a8402a83-3017-4d57-ae7b-037e1133d66a",
   "metadata": {},
   "source": [
    "## 3-Prérequis\n",
    "### Environnement : Anaconda, Google Colab, Kaggle  \n",
    "\n",
    "Pour travailler efficacement en Deep Learning, plusieurs environnements sont à notre disposition.  \n",
    "\n",
    "#### 🔹 Anaconda  \n",
    "Une distribution populaire de Python qui intègre de nombreux outils scientifiques, dont Jupyter Notebook, facilitant l’expérimentation en intelligence artificielle.  \n",
    "📌 **Téléchargement** : [Anaconda](https://www.anaconda.com/download/success)  \n",
    "\n",
    "#### 🔹 Google Colab  \n",
    "Une plateforme cloud qui permet d’exécuter des notebooks Jupyter sans installation locale. Elle offre un accès gratuit à des GPU et TPU, facilitant l'entraînement des modèles de Deep Learning.  \n",
    "📌 **Accès** : [Google Colab](https://colab.research.google.com/#create=true)  \n",
    "\n",
    "#### 🔹 Kaggle  \n",
    "Une plateforme de data science qui propose des notebooks en ligne avec des ressources GPU gratuites. Idéale pour tester des modèles et accéder à des datasets publics.  \n",
    "📌 **Accès** : [Kaggle](https://www.kaggle.com/code/)  \n",
    "\n",
    "---\n",
    "\n",
    "### Plateformes : TensorFlow, Keras, PyTorch  \n",
    "\n",
    "Plusieurs bibliothèques sont utilisées pour implémenter des réseaux de neurones en Deep Learning :  \n",
    "\n",
    "#### 🔹 Keras  \n",
    "Une API haut niveau fonctionnant au-dessus de TensorFlow, facilitant la création et l’entraînement des réseaux de neurones avec une syntaxe intuitive.  \n",
    "📌 **Plus d’informations** : [Keras](https://keras.io/) \n",
    "\n",
    "#### 🔹 TensorFlow  \n",
    "Développé par Google, TensorFlow est une bibliothèque puissante et optimisée pour le calcul tensoriel et l’apprentissage automatique. Il est souvent utilisé pour des modèles de production à grande échelle.  \n",
    "📌 **Site officiel** : [TensorFlow](https://www.tensorflow.org/)  \n",
    " \n",
    "#### 🔹 PyTorch  \n",
    "Développé par Facebook, PyTorch est une alternative flexible et dynamique à TensorFlow. Il est apprécié pour sa facilité d'utilisation et sa compatibilité avec la recherche académique.  \n",
    "📌 **Site officiel** : [PyTorch](https://pytorch.org/)  \n"
   ]
  },
  {
   "cell_type": "markdown",
   "id": "e7c9a61f-eb65-4397-8283-2293f1da843d",
   "metadata": {},
   "source": [
    "![Alt Text](image.png)"
   ]
  },
  {
   "cell_type": "markdown",
   "id": "d896b403-9270-44db-9f48-42300f45dac0",
   "metadata": {},
   "source": [
    "| Caractéristique/Aspect | **Keras**                          | **TensorFlow**                     | **PyTorch**                        |\n",
    "|------------------------|------------------------------------|------------------------------------|------------------------------------|\n",
    "| **Utilisation Principale** | Prototypage rapide              | Production & déploiement           | Recherche & expérimentation        |\n",
    "| **Facilité d'Utilisation** | Très facile                     | Modérée                            | Modérée                            |\n",
    "| **Type de Graphe**     | Statique                          | Statique (quelques fonctionnalités dynamiques) | Dynamique                          |\n",
    "| **Flexibilité**        | Faible                            | Élevée                             | Très élevée                        |\n",
    "| **Débogage**           | Plus difficile                    | Modéré                             | Plus facile                        |\n",
    "| **Popularité**         | Débutants & prototypage           | Standard de l'industrie            | Milieu académique & recherche      |"
   ]
  },
  {
   "cell_type": "markdown",
   "id": "9cbe3807-be20-42fa-8f63-8829f70ad701",
   "metadata": {},
   "source": [
    "## 4-Installation\n",
    "Commencez par installer les librairies nécessaires. \n",
    "--"
   ]
  },
  {
   "cell_type": "code",
   "execution_count": null,
   "id": "33e5d2cc-1bab-459a-a660-087b842bf949",
   "metadata": {},
   "outputs": [],
   "source": [
    "!python.exe -m pip install --upgrade pip"
   ]
  },
  {
   "cell_type": "markdown",
   "id": "98eeb52d-9ce2-40ab-8ce8-293cccf4c2b0",
   "metadata": {},
   "source": [
    "#### To install PyTorch,\n",
    "\n",
    "🔹1 Using pip (Recommended for most users)\n",
    "Run this in your terminal or command prompt:\n"
   ]
  },
  {
   "cell_type": "code",
   "execution_count": null,
   "id": "bcca02d0-67fd-42f4-ac26-ec9a813d084e",
   "metadata": {},
   "outputs": [],
   "source": [
    "!pip install torch torchvision torchaudio torchviz"
   ]
  },
  {
   "cell_type": "markdown",
   "id": "e5e59755-20bd-49d3-a92b-261a0a62cbe1",
   "metadata": {},
   "source": [
    "🔹 2. Using Conda (for Anaconda users)\n",
    "\n",
    "conda install pytorch torchvision torchaudio torchviz -c pytorch"
   ]
  },
  {
   "cell_type": "markdown",
   "id": "55dc67e3-a304-4442-9808-42f2684fd4cc",
   "metadata": {},
   "source": [
    "#### To install tensorflow,\n",
    "\n",
    "🔹1 Using pip (Recommended for most users)\n",
    "Run this in your terminal or command prompt:\n"
   ]
  },
  {
   "cell_type": "code",
   "execution_count": null,
   "id": "782e5fbe-8546-4e05-9212-1b472997af51",
   "metadata": {},
   "outputs": [],
   "source": [
    "!pip install tensorflow"
   ]
  },
  {
   "cell_type": "markdown",
   "id": "1d3b48da-6fb5-49fc-ba99-281076bf2af2",
   "metadata": {},
   "source": [
    "🔹 2. Using Conda (for Anaconda users)\n",
    "\n",
    "conda install -c conda-forge tensorflow"
   ]
  },
  {
   "cell_type": "markdown",
   "id": "61ac81cd-8906-4349-b622-fc5d232327c0",
   "metadata": {},
   "source": [
    "```python\n",
    "# Common imports"
   ]
  },
  {
   "cell_type": "code",
   "execution_count": null,
   "id": "fc6c5c5c-7a69-42b3-8fed-5a3483ee34e0",
   "metadata": {},
   "outputs": [],
   "source": [
    "!pip install matplotlib"
   ]
  },
  {
   "cell_type": "markdown",
   "id": "e9c8200a-f28e-49fb-b018-e58ffe3ad301",
   "metadata": {},
   "source": [
    "**download  [graphviz](https://graphviz.gitlab.io/download/)"
   ]
  },
  {
   "cell_type": "code",
   "execution_count": null,
   "id": "82e224df-b2c7-4fef-8a7b-ed11a96d9497",
   "metadata": {},
   "outputs": [],
   "source": [
    "!pip install pydot graphviz"
   ]
  },
  {
   "cell_type": "markdown",
   "id": "3758ff63-6891-46c0-af69-e40bed343db0",
   "metadata": {},
   "source": [
    "## 5-Manipulation des Tenseurs avec TensorFlow, Keras et PyTorch"
   ]
  },
  {
   "cell_type": "markdown",
   "id": "78537d68-59dc-40d0-9dc9-241aca8531e6",
   "metadata": {},
   "source": [
    "### Étape 1: Création et Initialisation des Tensors\n",
    "\n",
    "Cette section explore la création de tensors dans les trois frameworks. Les tensors peuvent être créés à partir de listes Python, de tableaux NumPy, ou initialisés avec des valeurs spécifiques (zéros, uns, valeurs aléatoires)."
   ]
  },
  {
   "cell_type": "markdown",
   "id": "66eed287-5606-43c0-8e90-9549fb140021",
   "metadata": {},
   "source": [
    "#### Tensorflow"
   ]
  },
  {
   "cell_type": "code",
   "execution_count": 1,
   "id": "a8c05955-c53c-4999-bad6-1afcc8498e7b",
   "metadata": {},
   "outputs": [
    {
     "name": "stdout",
     "output_type": "stream",
     "text": [
      "TensorFlow (List): [1 2 3 4 5]\n",
      "TensorFlow (NumPy): [[1 2]\n",
      " [3 4]]\n",
      "TensorFlow (Zeros): [[0. 0. 0.]\n",
      " [0. 0. 0.]]\n",
      "TensorFlow (Ones): [[1. 1.]\n",
      " [1. 1.]\n",
      " [1. 1.]]\n",
      "TensorFlow (Random Normal): [[-0.6786423 -1.6680684]\n",
      " [ 3.0536501  0.7709694]]\n"
     ]
    }
   ],
   "source": [
    "import tensorflow as tf\n",
    "import numpy as np\n",
    "\n",
    "# Création à partir d'une liste Python\n",
    "tensor_tf_list = tf.constant([1, 2, 3, 4, 5])\n",
    "print(f\"TensorFlow (List): {tensor_tf_list}\")\n",
    "\n",
    "# Création à partir d'un tableau NumPy\n",
    "array_np = np.array([[1, 2], [3, 4]])\n",
    "tensor_tf_np = tf.constant(array_np)\n",
    "print(f\"TensorFlow (NumPy): {tensor_tf_np}\")\n",
    "\n",
    "# Initialisation avec des valeurs spécifiques\n",
    "zeros_tf = tf.zeros((2, 3))\n",
    "ones_tf = tf.ones((3, 2))\n",
    "random_tf = tf.random.normal((2, 2))\n",
    "\n",
    "print(f\"TensorFlow (Zeros): {zeros_tf}\")\n",
    "print(f\"TensorFlow (Ones): {ones_tf}\")\n",
    "print(f\"TensorFlow (Random Normal): {random_tf}\")"
   ]
  },
  {
   "cell_type": "markdown",
   "id": "48c0c7ae-d459-4d2a-8f8b-b76c768a6c25",
   "metadata": {},
   "source": [
    "### Fonctions importantes (TensorFlow):\n",
    "- `tf.constant(value, dtype=None)`: Crée un tensor constant à partir d'une valeur (liste, NumPy array, etc.).\n",
    "- `tf.zeros(shape, dtype=tf.float32)`: Crée un tensor rempli de zéros avec la forme spécifiée.\n",
    "- `tf.ones(shape, dtype=tf.float32)`: Crée un tensor rempli d'uns avec la forme spécifiée.\n",
    "- `tf.random.normal(shape, mean=0.0, stddev=1.0, dtype=tf.float32)`: Crée un tensor rempli de valeurs aléatoires suivant une distribution normale."
   ]
  },
  {
   "cell_type": "markdown",
   "id": "4716d266-2951-47f5-b88b-4549ae517ffe",
   "metadata": {},
   "source": [
    "#### Keras\n",
    "Bien que Keras soit souvent utilisé comme une API de haut niveau, il utilise TensorFlow comme backend pour les opérations de bas niveau. Nous allons illustrer l'utilisation des tensors directement dans Keras, même si c'est moins courant."
   ]
  },
  {
   "cell_type": "code",
   "execution_count": 2,
   "id": "5c7a5649-d5cd-47b6-85ea-ea9e86d2c58e",
   "metadata": {},
   "outputs": [
    {
     "name": "stdout",
     "output_type": "stream",
     "text": [
      "Keras (TensorFlow Tensor): [ 6  7  8  9 10]\n",
      "Keras Variable: <tf.Variable 'Variable:0' shape=(2, 2) dtype=float32, numpy=\n",
      "array([[ 0.45464167, -1.1336206 ],\n",
      "       [-0.06673642,  1.0425404 ]], dtype=float32)>\n"
     ]
    }
   ],
   "source": [
    "import tensorflow as tf\n",
    "from tensorflow import keras\n",
    "import numpy as np\n",
    "\n",
    "# Keras utilise les tensors TensorFlow sous le capot\n",
    "tensor_keras = tf.constant([6, 7, 8, 9, 10])\n",
    "print(f\"Keras (TensorFlow Tensor): {tensor_keras}\")\n",
    "\n",
    "# Variables Keras (utile pour les paramètres entraînables)\n",
    "variable_keras = tf.Variable(tf.random.normal((2, 2)))\n",
    "print(f\"Keras Variable: {variable_keras}\")"
   ]
  },
  {
   "cell_type": "markdown",
   "id": "330affed-1e28-424c-92c1-f1208404d75c",
   "metadata": {},
   "source": [
    "##### Fonctions importantes (Keras):\n",
    "- `tf.Variable(initial_value, trainable=True)`: Crée une variable (tensor mutable) qui peut être entraînée."
   ]
  },
  {
   "cell_type": "markdown",
   "id": "8be1fee5-2cd2-466b-8232-e9b43f0d0c25",
   "metadata": {},
   "source": [
    "#### PyTorch"
   ]
  },
  {
   "cell_type": "code",
   "execution_count": 3,
   "id": "f350770d-0bd6-476b-acbd-7508f62c7fc2",
   "metadata": {},
   "outputs": [
    {
     "name": "stdout",
     "output_type": "stream",
     "text": [
      "PyTorch (List): tensor([1, 2, 3, 4, 5])\n",
      "PyTorch (NumPy): tensor([[1, 2],\n",
      "        [3, 4]])\n",
      "PyTorch (Zeros): tensor([[0., 0., 0.],\n",
      "        [0., 0., 0.]])\n",
      "PyTorch (Ones): tensor([[1., 1.],\n",
      "        [1., 1.],\n",
      "        [1., 1.]])\n",
      "PyTorch (Random Normal): tensor([[ 0.5327, -0.0092],\n",
      "        [-0.2087, -1.0452]])\n"
     ]
    }
   ],
   "source": [
    "import torch\n",
    "import numpy as np\n",
    "\n",
    "# Création à partir d'une liste Python\n",
    "tensor_torch_list = torch.tensor([1, 2, 3, 4, 5])\n",
    "print(f\"PyTorch (List): {tensor_torch_list}\")\n",
    "\n",
    "# Création à partir d'un tableau NumPy\n",
    "array_np = np.array([[1, 2], [3, 4]])\n",
    "tensor_torch_np = torch.tensor(array_np)\n",
    "print(f\"PyTorch (NumPy): {tensor_torch_np}\")\n",
    "\n",
    "# Initialisation avec des valeurs spécifiques\n",
    "zeros_torch = torch.zeros((2, 3))\n",
    "ones_torch = torch.ones((3, 2))\n",
    "random_torch = torch.randn((2, 2))\n",
    "\n",
    "print(f\"PyTorch (Zeros): {zeros_torch}\")\n",
    "print(f\"PyTorch (Ones): {ones_torch}\")\n",
    "print(f\"PyTorch (Random Normal): {random_torch}\")"
   ]
  },
  {
   "cell_type": "markdown",
   "id": "7b235f6d-ed9b-450b-b96d-b3020b80e841",
   "metadata": {},
   "source": [
    "##### Fonctions importantes (PyTorch):\n",
    "- `torch.tensor(data, dtype=None)`: Crée un tensor à partir de données (liste, NumPy array, etc.).\n",
    "- `torch.zeros(size, dtype=torch.float32)`: Crée un tensor rempli de zéros avec la taille spécifiée.\n",
    "- `torch.ones(size, dtype=torch.float32)`: Crée un tensor rempli d'uns avec la taille spécifiée.\n",
    "- `torch.randn(size, dtype=torch.float32)`: Crée un tensor rempli de valeurs aléatoires suivant une distribution normale."
   ]
  },
  {
   "cell_type": "markdown",
   "id": "7cebdf04-f7c2-45b3-b8a9-8f189b6ed13c",
   "metadata": {},
   "source": [
    "###  🧮  Exercice 1: Création de Tensors\n",
    "1. Créez un tensor 3x3 rempli de la valeur 7 dans TensorFlow, Keras et PyTorch.\n",
    "2. Créez un tensor 4x2 rempli de valeurs aléatoires uniformément distribuées entre 0 et 1 dans chaque framework.\n",
    "----"
   ]
  },
  {
   "cell_type": "code",
   "execution_count": 2,
   "id": "da778d43",
   "metadata": {},
   "outputs": [
    {
     "name": "stdout",
     "output_type": "stream",
     "text": [
      "tensor([[7, 7, 7],\n",
      "        [7, 7, 7],\n",
      "        [7, 7, 7]])\n",
      "tf.Tensor(\n",
      "[[7 7 7]\n",
      " [7 7 7]\n",
      " [7 7 7]], shape=(3, 3), dtype=int32)\n",
      "tf.Tensor(\n",
      "[[7 7 7]\n",
      " [7 7 7]\n",
      " [7 7 7]], shape=(3, 3), dtype=int32)\n",
      "tensor([[0.4857, 0.0691],\n",
      "        [0.3319, 0.6614],\n",
      "        [0.9903, 0.8741],\n",
      "        [0.5099, 0.0604]])\n",
      "tf.Tensor(\n",
      "[[0.66448224 0.98767924]\n",
      " [0.7571683  0.49561548]\n",
      " [0.4228078  0.7348676 ]\n",
      " [0.8905282  0.50530875]], shape=(4, 2), dtype=float32)\n"
     ]
    }
   ],
   "source": [
    "import tensorflow as tf\n",
    "import torch\n",
    "\n",
    "# Q1\n",
    "matrix7 = torch.full((3, 3), 7)\n",
    "print(matrix7)\n",
    "\n",
    "matrix_tensor = tf.constant(7, shape=[3, 3])\n",
    "print(matrix_tensor)\n",
    "\n",
    "matrix7_tf = tf.fill([3, 3], 7)\n",
    "print(matrix7_tf)\n",
    "# Q2\n",
    "\n",
    "matrix = torch.rand((4, 2))\n",
    "print(matrix)\n",
    "\n",
    "matrix_tensor = tf.random.uniform([4, 2], 0, 1)\n",
    "print(matrix_tensor)\n",
    "\n",
    "\n"
   ]
  },
  {
   "cell_type": "markdown",
   "id": "43964fda-0298-4473-a37f-d924666041f5",
   "metadata": {},
   "source": [
    "### Étape 2: Opérations sur les Tensors\n",
    "\n",
    "Cette section couvre les opérations mathématiques de base sur les tensors, ainsi que le redimensionnement et la concaténation."
   ]
  },
  {
   "cell_type": "markdown",
   "id": "73229fd3-f958-4bc0-9f47-66a31d5e2615",
   "metadata": {},
   "source": [
    "#### Tensorflow"
   ]
  },
  {
   "cell_type": "code",
   "execution_count": 7,
   "id": "54257fa0-e3eb-40e2-965f-8c2cda4d9b94",
   "metadata": {},
   "outputs": [
    {
     "name": "stdout",
     "output_type": "stream",
     "text": [
      "TensorFlow (Addition): [[ 6  8]\n",
      " [10 12]]\n",
      "TensorFlow (Element-wise Multiplication): [[ 5 12]\n",
      " [21 32]]\n",
      "TensorFlow (Matmul): [[19 22]\n",
      " [43 50]]\n",
      "TensorFlow (Reshape): [[1]\n",
      " [2]\n",
      " [3]\n",
      " [4]]\n",
      "TensorFlow (Concatenation): [[1 2]\n",
      " [3 4]\n",
      " [5 6]\n",
      " [7 8]]\n"
     ]
    }
   ],
   "source": [
    "import tensorflow as tf\n",
    "\n",
    "tensor_a_tf = tf.constant([[1, 2], [3, 4]])\n",
    "tensor_b_tf = tf.constant([[5, 6], [7, 8]])\n",
    "\n",
    "# Addition et Multiplication\n",
    "add_tf = tf.add(tensor_a_tf, tensor_b_tf)\n",
    "multiply_tf = tf.multiply(tensor_a_tf, tensor_b_tf)  # Element-wise multiplication\n",
    "\n",
    "# Produit matriciel\n",
    "matmul_tf = tf.matmul(tensor_a_tf, tensor_b_tf)\n",
    "\n",
    "# Redimensionnement\n",
    "reshape_tf = tf.reshape(tensor_a_tf, (4, 1))\n",
    "\n",
    "# Concaténation\n",
    "concat_tf = tf.concat([tensor_a_tf, tensor_b_tf], axis=0)  # Concaténation sur les lignes\n",
    "\n",
    "print(f\"TensorFlow (Addition): {add_tf}\")\n",
    "print(f\"TensorFlow (Element-wise Multiplication): {multiply_tf}\")\n",
    "print(f\"TensorFlow (Matmul): {matmul_tf}\")\n",
    "print(f\"TensorFlow (Reshape): {reshape_tf}\")\n",
    "print(f\"TensorFlow (Concatenation): {concat_tf}\")"
   ]
  },
  {
   "cell_type": "markdown",
   "id": "ee7d3b34-8c3b-4848-9cac-01375f6adde9",
   "metadata": {},
   "source": [
    "#### Keras"
   ]
  },
  {
   "cell_type": "code",
   "execution_count": 5,
   "id": "5c983395-0926-428b-9dd2-83525029d9a1",
   "metadata": {},
   "outputs": [
    {
     "name": "stdout",
     "output_type": "stream",
     "text": [
      "Keras (Addition): [[ 6  8]\n",
      " [10 12]]\n",
      "Keras (Element-wise Multiplication): [[ 5 12]\n",
      " [21 32]]\n",
      "Keras (Matmul): [[19 22]\n",
      " [43 50]]\n",
      "Keras (Reshape): [[1]\n",
      " [2]\n",
      " [3]\n",
      " [4]]\n",
      "Keras (Concatenation): [[1 2]\n",
      " [3 4]\n",
      " [5 6]\n",
      " [7 8]]\n"
     ]
    }
   ],
   "source": [
    "import tensorflow as tf\n",
    "from tensorflow import keras\n",
    "\n",
    "# Keras utilise les fonctions TensorFlow\n",
    "tensor_a_keras = tf.constant([[1, 2], [3, 4]])\n",
    "tensor_b_keras = tf.constant([[5, 6], [7, 8]])\n",
    "\n",
    "add_keras = tf.add(tensor_a_keras, tensor_b_keras)\n",
    "multiply_keras = tf.multiply(tensor_a_keras, tensor_b_keras)  # Element-wise multiplication\n",
    "matmul_keras = tf.matmul(tensor_a_keras, tensor_b_keras)\n",
    "reshape_keras = tf.reshape(tensor_a_keras, (4, 1))\n",
    "concat_keras = tf.concat([tensor_a_keras, tensor_b_keras], axis=0)\n",
    "\n",
    "print(f\"Keras (Addition): {add_keras}\")\n",
    "print(f\"Keras (Element-wise Multiplication): {multiply_keras}\")\n",
    "print(f\"Keras (Matmul): {matmul_keras}\")\n",
    "print(f\"Keras (Reshape): {reshape_keras}\")\n",
    "print(f\"Keras (Concatenation): {concat_keras}\")"
   ]
  },
  {
   "cell_type": "markdown",
   "id": "fbb826a7-7f70-42c8-a70e-1725d449ea4c",
   "metadata": {},
   "source": [
    "#### PyTorch"
   ]
  },
  {
   "cell_type": "code",
   "execution_count": 6,
   "id": "7d4baa83-60ef-4b87-9dba-5fab95ab7243",
   "metadata": {},
   "outputs": [
    {
     "name": "stdout",
     "output_type": "stream",
     "text": [
      "PyTorch (Addition): tensor([[ 6,  8],\n",
      "        [10, 12]])\n",
      "PyTorch (Element-wise Multiplication): tensor([[ 5, 12],\n",
      "        [21, 32]])\n",
      "PyTorch (Matmul): tensor([[19, 22],\n",
      "        [43, 50]])\n",
      "PyTorch (Reshape): tensor([[1],\n",
      "        [2],\n",
      "        [3],\n",
      "        [4]])\n",
      "PyTorch (Concatenation): tensor([[1, 2],\n",
      "        [3, 4],\n",
      "        [5, 6],\n",
      "        [7, 8]])\n"
     ]
    }
   ],
   "source": [
    "import torch\n",
    "\n",
    "tensor_a_torch = torch.tensor([[1, 2], [3, 4]])\n",
    "tensor_b_torch = torch.tensor([[5, 6], [7, 8]])\n",
    "\n",
    "# Addition et Multiplication\n",
    "add_torch = torch.add(tensor_a_torch, tensor_b_torch)\n",
    "multiply_torch = torch.mul(tensor_a_torch, tensor_b_torch)  # Element-wise multiplication\n",
    "\n",
    "# Produit matriciel\n",
    "matmul_torch = torch.matmul(tensor_a_torch, tensor_b_torch)\n",
    "\n",
    "# Redimensionnement\n",
    "reshape_torch = tensor_a_torch.reshape((4, 1))\n",
    "\n",
    "# Concaténation\n",
    "concat_torch = torch.cat([tensor_a_torch, tensor_b_torch], dim=0)  # Concaténation sur les lignes\n",
    "\n",
    "print(f\"PyTorch (Addition): {add_torch}\")\n",
    "print(f\"PyTorch (Element-wise Multiplication): {multiply_torch}\")\n",
    "print(f\"PyTorch (Matmul): {matmul_torch}\")\n",
    "print(f\"PyTorch (Reshape): {reshape_torch}\")\n",
    "print(f\"PyTorch (Concatenation): {concat_torch}\")"
   ]
  },
  {
   "cell_type": "markdown",
   "id": "65aebadd-c162-40fb-9ff7-7fa08fb47973",
   "metadata": {},
   "source": [
    "### 🧮 Exercice 2: Opérations et Transformations\n",
    "1. Créez deux matrices 2x2 et calculez leur produit matriciel dans chaque framework.\n",
    "2. Redimensionnez une matrice 3x4 en un vecteur de 12 éléments dans chaque framework.\n",
    "3. Concaténez deux vecteurs de taille 5 horizontalement (axis=1) dans chaque framework.\n",
    "---"
   ]
  },
  {
   "cell_type": "code",
   "execution_count": null,
   "id": "706c9666",
   "metadata": {},
   "outputs": [
    {
     "name": "stdout",
     "output_type": "stream",
     "text": [
      "tf.Tensor(\n",
      "[[ 7 10]\n",
      " [19 22]], shape=(2, 2), dtype=int32)\n",
      "tf.Tensor(\n",
      "[[ 7 10]\n",
      " [19 22]], shape=(2, 2), dtype=int64)\n",
      "tensor([[7, 7, 7, 7],\n",
      "        [7, 7, 7, 7],\n",
      "        [7, 7, 7, 7]])\n",
      "3\n",
      "tensor([[7],\n",
      "        [7],\n",
      "        [7],\n",
      "        [7],\n",
      "        [7],\n",
      "        [7],\n",
      "        [7],\n",
      "        [7],\n",
      "        [7],\n",
      "        [7],\n",
      "        [7],\n",
      "        [7]])\n"
     ]
    }
   ],
   "source": [
    "import tensorflow as tf\n",
    "import torch\n",
    "\n",
    "matrix1 = tf.constant([[1, 2], [3, 4]])\n",
    "matrix2 = tf.constant([[5, 2], [1, 4]])\n",
    "\n",
    "prod = tf.matmul(matrix1, matrix2)\n",
    "\n",
    "print(prod)\n",
    "\n",
    "matrix1 = torch.tensor([[1, 2], [3, 4]])\n",
    "matrix2 = torch.tensor([[5, 2], [1, 4]])\n",
    "\n",
    "prod = tf.matmul(matrix1, matrix2)\n",
    "\n",
    "print(prod)\n",
    "# ------------------------------------\n",
    "\n",
    "matrix7 = torch.full((3, 4), 7)\n",
    "print(matrix7)\n",
    "print(matrix7.shape[0])\n",
    "matrix_reshaped = torch.reshape(matrix7, (matrix7.shape[0] * matrix7.shape[1],1))\n",
    "print(matrix_reshaped)\n",
    "\n",
    "\n"
   ]
  },
  {
   "cell_type": "markdown",
   "id": "804113cd-6c4e-48ba-807b-80bdbcdc9759",
   "metadata": {},
   "source": [
    "### Étape 3: Dimensions (Shape) des Tensors\n",
    "\n",
    "La manipulation des dimensions (shape) est cruciale pour assurer la compatibilité entre les opérations. Cette section montre comment obtenir et modifier le shape d'un tensor."
   ]
  },
  {
   "cell_type": "markdown",
   "id": "984a27f5-2c4e-4489-b99f-a881c919a053",
   "metadata": {},
   "source": [
    "#### Tensorflow"
   ]
  },
  {
   "cell_type": "code",
   "execution_count": 15,
   "id": "55f14068-7a7d-487a-8b2c-d5e6f4c29de6",
   "metadata": {},
   "outputs": [
    {
     "name": "stdout",
     "output_type": "stream",
     "text": [
      "TensorFlow (Shape): [2 3]\n",
      "TensorFlow (Reshaped): [[1 2]\n",
      " [3 4]\n",
      " [5 6]]\n"
     ]
    }
   ],
   "source": [
    "import tensorflow as tf\n",
    "\n",
    "tensor_tf = tf.constant([[1, 2, 3], [4, 5, 6]])\n",
    "\n",
    "# Obtenir le shape\n",
    "shape_tf = tf.shape(tensor_tf)\n",
    "print(f\"TensorFlow (Shape): {shape_tf}\")\n",
    "\n",
    "# Redimensionner\n",
    "reshaped_tf = tf.reshape(tensor_tf, (3, 2))\n",
    "print(f\"TensorFlow (Reshaped): {reshaped_tf}\")"
   ]
  },
  {
   "cell_type": "markdown",
   "id": "dd8b2f43-9429-4d34-b1ae-da5ec1142ffd",
   "metadata": {},
   "source": [
    "#### Keras"
   ]
  },
  {
   "cell_type": "code",
   "execution_count": 16,
   "id": "95cd9f8a-38b1-4f2e-bde3-782430d436d1",
   "metadata": {},
   "outputs": [
    {
     "name": "stdout",
     "output_type": "stream",
     "text": [
      "Keras (Shape): [2 3]\n",
      "Keras (Reshaped): [[1 2]\n",
      " [3 4]\n",
      " [5 6]]\n"
     ]
    }
   ],
   "source": [
    "import tensorflow as tf\n",
    "from tensorflow import keras\n",
    "\n",
    "tensor_keras = tf.constant([[1, 2, 3], [4, 5, 6]])\n",
    "shape_keras = tf.shape(tensor_keras)\n",
    "print(f\"Keras (Shape): {shape_keras}\")\n",
    "\n",
    "reshaped_keras = tf.reshape(tensor_keras, (3, 2))\n",
    "print(f\"Keras (Reshaped): {reshaped_keras}\")"
   ]
  },
  {
   "cell_type": "markdown",
   "id": "9042c380-f151-43b1-af18-5c217a61fe92",
   "metadata": {},
   "source": [
    "#### PyTorch"
   ]
  },
  {
   "cell_type": "code",
   "execution_count": 17,
   "id": "9e973cb7-9899-432b-8c16-23b7f89f96eb",
   "metadata": {},
   "outputs": [
    {
     "name": "stdout",
     "output_type": "stream",
     "text": [
      "PyTorch (Shape): torch.Size([2, 3])\n",
      "PyTorch (Reshaped): tensor([[1, 2],\n",
      "        [3, 4],\n",
      "        [5, 6]])\n"
     ]
    }
   ],
   "source": [
    "import torch\n",
    "\n",
    "tensor_torch = torch.tensor([[1, 2, 3], [4, 5, 6]])\n",
    "\n",
    "# Obtenir le shape\n",
    "shape_torch = tensor_torch.shape\n",
    "print(f\"PyTorch (Shape): {shape_torch}\")\n",
    "\n",
    "# Redimensionner\n",
    "reshaped_torch = tensor_torch.reshape((3, 2))\n",
    "print(f\"PyTorch (Reshaped): {reshaped_torch}\")"
   ]
  },
  {
   "cell_type": "markdown",
   "id": "3ede9a04-441a-4f4d-9dd5-058c41241940",
   "metadata": {},
   "source": [
    "### 🧮  Exercice 3: Manipulation du Shape\n",
    "1. Créez un tensor 4x3x2 et affichez son shape dans chaque framework.\n",
    "2. Redimensionnez le tensor précédent en un tensor 2x12 dans chaque framework.\n",
    "3. Vérifiez que le nombre total d'éléments reste inchangé après le redimensionnement.\n",
    "---"
   ]
  },
  {
   "cell_type": "code",
   "execution_count": null,
   "id": "3144587d",
   "metadata": {},
   "outputs": [],
   "source": [
    "import tensorflow as tf\n"
   ]
  },
  {
   "cell_type": "markdown",
   "id": "a3a246ef-9df8-4f88-98de-e373a9f6f408",
   "metadata": {},
   "source": [
    "## 6-Conclusion\n",
    "\n",
    "Ce TP a couvert les bases de la manipulation des tensors dans TensorFlow, Keras et PyTorch. Vous avez appris à créer, initialiser, opérer et transformer des tensors. Les exercices vous ont permis de pratiquer ces compétences et d'appréhender les différences entre les frameworks. Ces fondations sont essentielles pour aborder des concepts plus avancés, comme les réseaux de neurones."
   ]
  },
  {
   "cell_type": "markdown",
   "id": "c15987a9-f2c5-4666-abbb-525b009b212c",
   "metadata": {},
   "source": [
    "## 7-Exercices Supplémentaires\n",
    "1. Implémentez une fonction qui normalise un tensor (met chaque valeur entre 0 et 1) dans chaque framework.\n",
    "2. Créez une fonction qui calcule la transposée d'une matrice dans chaque framework.\n",
    "3. Écrivez une fonction qui calcule la moyenne de tous les éléments d'un tensor dans chaque framework."
   ]
  },
  {
   "cell_type": "markdown",
   "id": "0e444163-747e-4543-b02f-d7cee720f2d8",
   "metadata": {},
   "source": [
    "## FAQ"
   ]
  },
  {
   "cell_type": "markdown",
   "id": "1853d0ca-42c3-4a2a-b411-749d391d8408",
   "metadata": {},
   "source": [
    "## Ressources Supplémentaires\n",
    "\n",
    "Langage utilisé:\n",
    "- Python 3: https://docs.python.org/3/\n",
    "\n",
    "Librairie keras:\n",
    "- [Documentation officielle de Keras](https://keras.io/)\n",
    "- [Tutoriels TensorFlow](https://www.tensorflow.org/tutorials)\n",
    "\n",
    "Librairie Pytorch:\n",
    "- PyTorch: https: https://pytorch.org/docs/stable/\n",
    "\n",
    "Librairie de math:\n",
    "- Numpy: https://docs.scipy.org/doc/numpy/reference/\n",
    "- Scipy: https://docs.scipy.org/doc/scipy/reference/\n",
    "\n",
    "Librairie d'affichage de données:\n",
    "- Matplotilb: https://matplotlib.org/contents.html\n"
   ]
  }
 ],
 "metadata": {
  "date": "2023-10-05",
  "filename": "tpDeepLearning3.rst",
  "kernelspec": {
   "display_name": "deep_env",
   "language": "python",
   "name": "python3"
  },
  "language_info": {
   "codemirror_mode": {
    "name": "ipython",
    "version": 3
   },
   "file_extension": ".py",
   "mimetype": "text/x-python",
   "name": "python",
   "nbconvert_exporter": "python",
   "pygments_lexer": "ipython3",
   "version": "3.12.9"
  },
  "title": "Travaux pratiques - Deep Learning"
 },
 "nbformat": 4,
 "nbformat_minor": 5
}
