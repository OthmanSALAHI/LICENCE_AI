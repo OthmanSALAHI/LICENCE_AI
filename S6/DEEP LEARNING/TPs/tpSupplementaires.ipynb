{
 "cells": [
  {
   "cell_type": "markdown",
   "metadata": {},
   "source": [
    "## 7-Exercices Supplémentaires\n",
    "1. Implémentez une fonction qui normalise un tensor (met chaque valeur entre 0 et 1) dans chaque framework.\n",
    "2. Créez une fonction qui calcule la transposée d'une matrice dans chaque framework.\n",
    "3. Écrivez une fonction qui calcule la moyenne de tous les éléments d'un tensor dans chaque framework."
   ]
  },
  {
   "cell_type": "code",
   "execution_count": 10,
   "metadata": {},
   "outputs": [
    {
     "name": "stdout",
     "output_type": "stream",
     "text": [
      "tensorflow\n",
      "[[0.         0.43181828 0.00985409]\n",
      " [0.5601154  0.8785672  0.52404064]\n",
      " [0.2129291  1.         0.75373334]]\n",
      "\n",
      "pytorch\n",
      "[[1.         0.5651466  0.6097425 ]\n",
      " [0.848483   0.         0.8691768 ]\n",
      " [0.46275955 0.665181   0.17198859]]\n",
      "\n",
      "transposer de matrice par framework tensorflow\n",
      "[[0.12044871 0.5758748  0.29357994]\n",
      " [0.47155726 0.83480585 0.933542  ]\n",
      " [0.128461   0.54654264 0.73330426]]\n",
      "\n",
      "transposer de matrice par framework torch\n",
      "[[0.9840435  0.8776456  0.6067839 ]\n",
      " [0.6786819  0.28182614 0.7489278 ]\n",
      " [0.7099979  0.89217716 0.4025995 ]]\n",
      "Moyenne TensorFlow: 0.4361\n",
      "Moyenne PyTorch:0.5389\n"
     ]
    }
   ],
   "source": [
    "import tensorflow as tf\n",
    "import torch\n",
    "\n",
    "\n",
    "# Q1 ----------------------------------\n",
    "\n",
    "# tensorflow\n",
    "print('tensorflow')\n",
    "\n",
    "def normalize_tensor_tf(tensor):\n",
    "    min_val = tf.reduce_min(tensor)\n",
    "    max_val = tf.reduce_max(tensor)\n",
    "    return (tensor - min_val) / (max_val - min_val)\n",
    "\n",
    "tensor_tf = tf.random.uniform((3, 3))\n",
    "\n",
    "print(normalize_tensor_tf(tensor_tf).numpy())\n",
    "print()\n",
    "\n",
    "# torch\n",
    "print('pytorch')\n",
    "\n",
    "def normalize_tensor_torch(tensor):\n",
    "    min_val = torch.min(tensor)\n",
    "    max_val = torch.max(tensor)\n",
    "    return (tensor - min_val) / (max_val - min_val)\n",
    "\n",
    "tensor_torch = torch.rand((3, 3))\n",
    "\n",
    "print(normalize_tensor_torch(tensor_torch).numpy())\n",
    "print()\n",
    "\n",
    "# Q2 ------------------------------------\n",
    "\n",
    "# tensorflow\n",
    "\n",
    "def transposer_tf(tensor):\n",
    "    return tf.transpose(tensor)\n",
    "\n",
    "print('transposer de matrice par framework tensorflow')\n",
    "print(transposer_tf(tensor_tf).numpy())\n",
    "print()\n",
    "\n",
    "# torch\n",
    "\n",
    "def transposer_torch(tensor):\n",
    "    return tensor_torch.T\n",
    "\n",
    "print('transposer de matrice par framework torch')\n",
    "print(transposer_torch(tensor_torch).numpy())\n",
    "\n",
    "# Q3 -----------------------------------------\n",
    "\n",
    "def mean_tensor_tf(tensor):\n",
    "    return tf.reduce_mean(tensor)\n",
    "\n",
    "\n",
    "def mean_tensor_torch(tensor):\n",
    "    return torch.mean(tensor)\n",
    "\n",
    "tensor_tf = tf.random.uniform((3, 3))\n",
    "tensor_torch = torch.rand((3, 3))\n",
    "\n",
    "print(\"Moyenne TensorFlow: {:.4f}\".format(mean_tensor_tf(tensor_tf).numpy()))\n",
    "print(\"Moyenne PyTorch:{:.4f}\".format(mean_tensor_torch(tensor_torch).numpy()))"
   ]
  }
 ],
 "metadata": {
  "kernelspec": {
   "display_name": "deep_env",
   "language": "python",
   "name": "python3"
  },
  "language_info": {
   "codemirror_mode": {
    "name": "ipython",
    "version": 3
   },
   "file_extension": ".py",
   "mimetype": "text/x-python",
   "name": "python",
   "nbconvert_exporter": "python",
   "pygments_lexer": "ipython3",
   "version": "3.12.9"
  }
 },
 "nbformat": 4,
 "nbformat_minor": 2
}
