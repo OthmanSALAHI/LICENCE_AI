{
 "cells": [
  {
   "cell_type": "markdown",
   "metadata": {},
   "source": [
    "### Somme factoriel\n"
   ]
  },
  {
   "cell_type": "code",
   "execution_count": 2,
   "metadata": {},
   "outputs": [
    {
     "name": "stdout",
     "output_type": "stream",
     "text": [
      "1\n"
     ]
    }
   ],
   "source": [
    "def factoriel(n):\n",
    "    if n <= 1:\n",
    "        return 1\n",
    "    return n * factoriel(n - 1)\n",
    "\n",
    "print(factoriel(0))\n"
   ]
  },
  {
   "cell_type": "markdown",
   "metadata": {},
   "source": [
    "### la complixité de factoriel function est O(n) "
   ]
  },
  {
   "cell_type": "markdown",
   "metadata": {},
   "source": [
    "## Somme factoriel"
   ]
  },
  {
   "cell_type": "code",
   "execution_count": 6,
   "metadata": {},
   "outputs": [
    {
     "name": "stdout",
     "output_type": "stream",
     "text": [
      "848\n",
      "127\n"
     ]
    }
   ],
   "source": [
    "def somme_fact(L):\n",
    "    if not L:\n",
    "        return 0\n",
    "    return factoriel(L[0]) + somme_fact(L[1:])\n",
    "\n",
    "print(somme_fact([5, 3, 6, 0, 1]))\n",
    "print(somme_fact([5, 1, 3]))"
   ]
  },
  {
   "cell_type": "code",
   "execution_count": 8,
   "metadata": {},
   "outputs": [
    {
     "name": "stdout",
     "output_type": "stream",
     "text": [
      "[[0 1 1 1 0 0 0 0]\n",
      " [1 0 1 0 1 0 0 0]\n",
      " [1 1 0 1 1 0 0 0]\n",
      " [1 0 1 0 1 0 1 1]\n",
      " [0 1 1 1 0 1 1 0]\n",
      " [0 0 0 0 1 0 1 1]\n",
      " [0 0 0 1 1 1 0 1]\n",
      " [0 0 0 1 0 1 1 0]]\n"
     ]
    }
   ],
   "source": [
    "import numpy as np\n",
    "R = [[0,1,1,1,0,0,0,0],[1,0,1,0,1,0,0,0],[1,1,0,1,1,0,0,0],[1,0,1,0,1,0,1,1],[0,1,1,1,0,1,1,0],[0,0,0,0,1,0,1,1],[0,0,0,1,1,1,0,1],[0,0,0,1,0,1,1,0]]\n",
    "print (np.array(R))\n"
   ]
  },
  {
   "cell_type": "code",
   "execution_count": 15,
   "metadata": {},
   "outputs": [
    {
     "name": "stdout",
     "output_type": "stream",
     "text": [
      "False\n"
     ]
    }
   ],
   "source": [
    "def voisines(i, j, R):\n",
    "    return R[i][j] == 1\n",
    "print(voisines(3, 5, R))"
   ]
  },
  {
   "cell_type": "code",
   "execution_count": 18,
   "metadata": {},
   "outputs": [
    {
     "name": "stdout",
     "output_type": "stream",
     "text": [
      "[0, 2, 4, 6, 7]\n"
     ]
    }
   ],
   "source": [
    "def liste_voisine(i, R):\n",
    "    lst = []\n",
    "    for j in range(len(R[i])):\n",
    "        if voisines(i, j, R):\n",
    "            lst.append(j)\n",
    "    return lst\n",
    "\n",
    "print(liste_voisine(3, R))"
   ]
  },
  {
   "cell_type": "code",
   "execution_count": 20,
   "metadata": {},
   "outputs": [
    {
     "name": "stdout",
     "output_type": "stream",
     "text": [
      "5\n"
     ]
    }
   ],
   "source": [
    "def degre(i, R):\n",
    "    return len(liste_voisine(i, R))\n",
    "print(degre(3, R))"
   ]
  },
  {
   "cell_type": "code",
   "execution_count": 22,
   "metadata": {},
   "outputs": [
    {
     "name": "stdout",
     "output_type": "stream",
     "text": [
      "[(0, 3), (1, 3), (2, 4), (3, 5), (4, 5), (5, 3), (6, 4), (7, 3)]\n"
     ]
    }
   ],
   "source": [
    "def liste_degres(R):\n",
    "    D = []\n",
    "    for i in range(len(R)):\n",
    "        D.append((i, degre(i, R)))\n",
    "    return D\n",
    "print(liste_degres(R))"
   ]
  },
  {
   "cell_type": "code",
   "execution_count": 25,
   "metadata": {},
   "outputs": [
    {
     "name": "stdout",
     "output_type": "stream",
     "text": [
      "[(6, 4), (4, 5), (3, 5), (2, 4), (1, 3), (5, 3), (0, 3), (7, 3)]\n"
     ]
    }
   ],
   "source": [
    "def tri_villes(D):\n",
    "    for i in range(len(D) - 1):\n",
    "        max = i\n",
    "        for j in range(i+1, len(D)):\n",
    "            if D[i][1] < D[j][1]:\n",
    "                max = j\n",
    "        D[i], D[max] = D[max], D[i]\n",
    "    return D\n",
    "print(tri_villes(liste_degres(R)))"
   ]
  }
 ],
 "metadata": {
  "kernelspec": {
   "display_name": "base",
   "language": "python",
   "name": "python3"
  },
  "language_info": {
   "codemirror_mode": {
    "name": "ipython",
    "version": 3
   },
   "file_extension": ".py",
   "mimetype": "text/x-python",
   "name": "python",
   "nbconvert_exporter": "python",
   "pygments_lexer": "ipython3",
   "version": "3.12.3"
  }
 },
 "nbformat": 4,
 "nbformat_minor": 2
}
