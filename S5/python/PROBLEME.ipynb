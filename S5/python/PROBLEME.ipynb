{
 "cells": [
  {
   "cell_type": "markdown",
   "metadata": {},
   "source": [
    "# CARRE MAGIQUE"
   ]
  },
  {
   "cell_type": "markdown",
   "metadata": {},
   "source": [
    "### MATRICE CARREE EN PYTHON"
   ]
  },
  {
   "attachments": {
    "image.png": {
     "image/png": "[encoded data removed]"
    }
   },
   "cell_type": "markdown",
   "metadata": {},
   "source": [
    "![image.png](attachment:image.png)"
   ]
  },
  {
   "cell_type": "code",
   "execution_count": 2,
   "metadata": {},
   "outputs": [],
   "source": [
    "import numpy as np\n",
    "M=[[4, 7, 10, 3],[3, 2, 9, 6],[13, 0, 5, 8],[7, 1, 6, 25]]"
   ]
  },
  {
   "cell_type": "code",
   "execution_count": 25,
   "metadata": {},
   "outputs": [
    {
     "name": "stdout",
     "output_type": "stream",
     "text": [
      "24\n"
     ]
    }
   ],
   "source": [
    "# Q1 somme_ligne(M, i) :\n",
    "def somme_ligne(M, i):\n",
    "    s = 0\n",
    "    for j in M[i]:\n",
    "        s += j\n",
    "    return s\n",
    "\n",
    "print(somme_ligne(M, 0))"
   ]
  },
  {
   "cell_type": "code",
   "execution_count": 24,
   "metadata": {},
   "outputs": [
    {
     "name": "stdout",
     "output_type": "stream",
     "text": [
      "27\n"
     ]
    }
   ],
   "source": [
    "# Q2 somme_colonne(M, j):\n",
    "def somme_colonne(M, j):\n",
    "    s = 0\n",
    "    for i in range(len(M)):\n",
    "        s += M[i][j]\n",
    "    return s\n",
    "\n",
    "print(somme_colonne(M,0))"
   ]
  },
  {
   "cell_type": "code",
   "execution_count": 23,
   "metadata": {},
   "outputs": [
    {
     "name": "stdout",
     "output_type": "stream",
     "text": [
      "36\n"
     ]
    }
   ],
   "source": [
    "def somme_diag(M):\n",
    "    s = 0\n",
    "    for i in range(len(M)):\n",
    "        s += M[i][i]\n",
    "    return s            \n",
    "\n",
    "print(somme_diag(M))"
   ]
  },
  {
   "cell_type": "code",
   "execution_count": 15,
   "metadata": {},
   "outputs": [
    {
     "name": "stdout",
     "output_type": "stream",
     "text": [
      "36\n"
     ]
    }
   ],
   "source": [
    "# avec numpy\n",
    "def somme_diag_np(M):\n",
    "    return np.sum(np.diag(np.array(M)))\n",
    "print(somme_diag_np(M))\n"
   ]
  },
  {
   "cell_type": "code",
   "execution_count": 18,
   "metadata": {},
   "outputs": [
    {
     "name": "stdout",
     "output_type": "stream",
     "text": [
      "19\n"
     ]
    }
   ],
   "source": [
    "def somme_diag_droit(M):\n",
    "    i, j, s = 0, len(M[0]) - 1, 0\n",
    "    while i < len(M) and j >= 0:\n",
    "        s += M[i][j]\n",
    "        i += 1\n",
    "        j -= 1\n",
    "    return s\n",
    "print(somme_diag_droit(M))"
   ]
  },
  {
   "cell_type": "markdown",
   "metadata": {},
   "source": [
    "### CARREE MAGIQUE"
   ]
  },
  {
   "cell_type": "code",
   "execution_count": 26,
   "metadata": {},
   "outputs": [
    {
     "name": "stdout",
     "output_type": "stream",
     "text": [
      "True\n",
      "False\n"
     ]
    }
   ],
   "source": [
    "def carree_magique(C):\n",
    "    diag = somme_diag(C)\n",
    "    for i in range(len(C)):\n",
    "        if somme_ligne(C, i) != diag or somme_colonne(C, i) != diag:\n",
    "            return False\n",
    "    return True\n",
    "C1=[[8, 1, 6] , [3, 5, 7] , [4, 9, 2]]\n",
    "C2 = [[21, 6, 17] , [11, 15, 19] , [13, 23, 9]]\n",
    "print(carree_magique(C1))\n",
    "print(carree_magique(C2))"
   ]
  },
  {
   "cell_type": "code",
   "execution_count": 29,
   "metadata": {},
   "outputs": [
    {
     "name": "stdout",
     "output_type": "stream",
     "text": [
      "True\n",
      "False\n",
      "False\n"
     ]
    }
   ],
   "source": [
    "def magique_normale(C):\n",
    "    if not carree_magique(C):\n",
    "        return False\n",
    "    n = len(C)\n",
    "    flat_list = [item for row in C for item in row]\n",
    "    if len(set(flat_list)) != n*n:\n",
    "        return False\n",
    "    for i in range(n):\n",
    "        for j in range(n):\n",
    "            if C[i][j] > n ** 2:\n",
    "                return False\n",
    "\n",
    "    return True\n",
    "C1=[[8, 1, 6] , [3, 5, 7] , [4, 9, 2]]\n",
    "C2 = [[21, 7, 17] , [11, 15, 19] , [13, 23, 9]]\n",
    "C3 = [[3, 3, 3] , [3, 3, 3] , [3, 3, 3]]\n",
    "\n",
    "print(magique_normale(C1))\n",
    "print(magique_normale(C2))\n",
    "print(magique_normale(C3))"
   ]
  },
  {
   "cell_type": "code",
   "execution_count": 11,
   "metadata": {},
   "outputs": [
    {
     "name": "stdout",
     "output_type": "stream",
     "text": [
      "[[17. 24.  1.  8. 15.]\n",
      " [23.  5.  7. 14. 16.]\n",
      " [ 4.  6. 13. 20. 22.]\n",
      " [10. 12. 19. 21.  3.]\n",
      " [11. 18. 25.  2.  9.]]\n"
     ]
    }
   ],
   "source": [
    "def matrice_nulle(n):\n",
    "    result = np.zeros((n, n))\n",
    "    return result\n",
    "\n",
    "def siamoise(n):\n",
    "    C = matrice_nulle(n)\n",
    "    C[0][n//2] = 1\n",
    "    i, j = 0, n//2\n",
    "    num = 1\n",
    "    while num < n*n:\n",
    "        cpt1, cpt2 = i, j\n",
    "        i -= 1\n",
    "        j += 1\n",
    "        num += 1\n",
    "        if i < 0:\n",
    "            i = n - 1\n",
    "        if j > n - 1:\n",
    "            j = 0\n",
    "        if C[i][j] != 0:\n",
    "            i, j = cpt1 + 1, cpt2\n",
    "        C[i][j] = num\n",
    "    return C\n",
    "\n",
    "print((siamoise(5)))\n",
    "# print(somme_ligne(siamoise(7), 1))"
   ]
  },
  {
   "cell_type": "code",
   "execution_count": 1,
   "metadata": {},
   "outputs": [
    {
     "name": "stdout",
     "output_type": "stream",
     "text": [
      "175\n"
     ]
    }
   ],
   "source": [
    "def constante_magique(n):\n",
    "    return (n*n + 1) * (n // 2) + (n*n - (n + 1) * (n // 2))\n",
    "print(constante_magique(7))"
   ]
  },
  {
   "cell_type": "code",
   "execution_count": 17,
   "metadata": {},
   "outputs": [
    {
     "name": "stdout",
     "output_type": "stream",
     "text": [
      "[[8. 1. 6.]\n",
      " [3. 5. 7.]\n",
      " [4. 9. 2.]]\n"
     ]
    }
   ],
   "source": [
    "def matrice_nulle(n):\n",
    "    return np.zeros((n,n))\n",
    "\n",
    "def siamoise_s(n):\n",
    "    m = matrice_nulle(n)\n",
    "    i,  j = 0, n // 2\n",
    "    m[0][n // 2] = 1\n",
    "    val = 1\n",
    "    while val < n*n:\n",
    "        cpt1, cpt2 = i, j\n",
    "        i -= 1\n",
    "        j += 1\n",
    "        val += 1\n",
    "        if i < 0:\n",
    "            i = n - 1\n",
    "        if j > n - 1:\n",
    "            j = 0\n",
    "        if m[i][j] != 0:\n",
    "            i, j = cpt1 + 1, cpt2\n",
    "        m[i][j] = val\n",
    "    return m\n",
    "print(siamoise_s(3))"
   ]
  },
  {
   "cell_type": "code",
   "execution_count": 1,
   "metadata": {},
   "outputs": [],
   "source": [
    "def siamoise(n) :\n",
    "    carre_mn = matrice_nulle(n)\n",
    "    carre_mn[0][n // 2] = 1\n",
    "    for k in range(2, n ** 2 + 1) :\n",
    "        i, j = find_n(carre_mn, k - 1)\n",
    "        new_i, new_j = (i - 1) % n, (j + 1) % n\n",
    "        if carre_mn[new_i][new_j] != 0 :\n",
    "            new_i, new_j = (i + 1) % n, j\n",
    "        carre_mn[new_i][new_j] = k\n",
    "    return carre_mn"
   ]
  },
  {
   "cell_type": "code",
   "execution_count": 2,
   "metadata": {},
   "outputs": [
    {
     "ename": "IndexError",
     "evalue": "list assignment index out of range",
     "output_type": "error",
     "traceback": [
      "\u001b[1;31m---------------------------------------------------------------------------\u001b[0m",
      "\u001b[1;31mIndexError\u001b[0m                                Traceback (most recent call last)",
      "Cell \u001b[1;32mIn[2], line 2\u001b[0m\n\u001b[0;32m      1\u001b[0m liste \u001b[38;5;241m=\u001b[39m [\u001b[38;5;241m1\u001b[39m, \u001b[38;5;241m2\u001b[39m, \u001b[38;5;241m3\u001b[39m, \u001b[38;5;241m4\u001b[39m]\n\u001b[1;32m----> 2\u001b[0m liste[\u001b[38;5;241m4\u001b[39m] \u001b[38;5;241m=\u001b[39m \u001b[38;5;241m5\u001b[39m\n\u001b[0;32m      3\u001b[0m \u001b[38;5;28mprint\u001b[39m(liste)\n",
      "\u001b[1;31mIndexError\u001b[0m: list assignment index out of range"
     ]
    }
   ],
   "source": [
    "\n",
    "        "
   ]
  }
 ],
 "metadata": {
  "kernelspec": {
   "display_name": "base",
   "language": "python",
   "name": "python3"
  },
  "language_info": {
   "codemirror_mode": {
    "name": "ipython",
    "version": 3
   },
   "file_extension": ".py",
   "mimetype": "text/x-python",
   "name": "python",
   "nbconvert_exporter": "python",
   "pygments_lexer": "ipython3",
   "version": "3.12.3"
  }
 },
 "nbformat": 4,
 "nbformat_minor": 2
}
