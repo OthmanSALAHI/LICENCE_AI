{
 "cells": [
  {
   "cell_type": "markdown",
   "metadata": {},
   "source": [
    "## Exercice 3\n",
    "Ecrire un Programme calcule la somme des N premiers termes de la série harmonique :<br>\n",
    "1 + 1/2 + 1/3 + ... + 1/N\n"
   ]
  },
  {
   "cell_type": "code",
   "execution_count": null,
   "metadata": {},
   "outputs": [],
   "source": [
    "## "
   ]
  },
  {
   "cell_type": "markdown",
   "metadata": {},
   "source": [
    "## Exercice 4 \n",
    "Ecrire un Programme qui calcule pour une valeur X donnée du type réel la valeur numérique d'un polynôme de degré n:<br>\n",
    "P(X) = AnXn + An-1Xn-1 + ... + A1X + A0<br>\n",
    "Les valeurs de n, des coefficients An, ... , A0 et de X seront entrées au clavier.\n"
   ]
  },
  {
   "cell_type": "code",
   "execution_count": null,
   "metadata": {},
   "outputs": [],
   "source": [
    "##"
   ]
  },
  {
   "cell_type": "markdown",
   "metadata": {},
   "source": [
    "## Exercice 5 \n",
    "Ecrire un Programme qui calcule le N-ième terme UN de la suite de FIBONACCI qui est donnée par la relation de récurrence:<br>\n",
    "U1=1   <br>   U2=1     <br>   UN=UN-1 + UN-2           (pour N>2)<br>\n",
    "Affichez la valeur de UN pour le rang N entré au clavier.\n"
   ]
  },
  {
   "cell_type": "code",
   "execution_count": 2,
   "metadata": {},
   "outputs": [],
   "source": [
    "##\n"
   ]
  },
  {
   "cell_type": "markdown",
   "metadata": {},
   "source": [
    "## Exercice 6 \n",
    "Ecrire un programme qui permet de déterminer si un nombre entier est premier.\n"
   ]
  },
  {
   "cell_type": "markdown",
   "metadata": {},
   "source": [
    "## EXERCICE 8:\n"
   ]
  },
  {
   "cell_type": "code",
   "execution_count": 4,
   "metadata": {},
   "outputs": [
    {
     "name": "stdout",
     "output_type": "stream",
     "text": [
      "2\n"
     ]
    }
   ],
   "source": [
    "def nombre_chiffre(nombre, chiffre):\n",
    "    counter = 0\n",
    "    while nombre > 0:\n",
    "        digit = nombre % 10\n",
    "        if digit == chiffre:\n",
    "            counter += 1\n",
    "        nombre //= 10\n",
    "    return counter\n",
    "print(nombre_chiffre(778, 7))\n"
   ]
  },
  {
   "cell_type": "markdown",
   "metadata": {},
   "source": [
    "## EXERCICE 9:\n"
   ]
  },
  {
   "cell_type": "code",
   "execution_count": 18,
   "metadata": {},
   "outputs": [
    {
     "name": "stdout",
     "output_type": "stream",
     "text": [
      "[153, 370, 371, 407, 1634, 8208, 9474, 54748, 92727, 93084, 548834, 1741725, 4210818, 9800817, 9926315]\n"
     ]
    }
   ],
   "source": [
    "def nombre_amstrong(nbr):\n",
    "    amstrong = []\n",
    "    for n in range(10, nbr + 1):\n",
    "        nombre = n\n",
    "        counter = 0\n",
    "        somme = 0\n",
    "        while nombre > 0:\n",
    "            counter += 1\n",
    "            nombre //= 10\n",
    "        nombre = n\n",
    "        while nombre > 0:\n",
    "            digit = nombre % 10\n",
    "            somme += (digit ** counter)\n",
    "            nombre //= 10\n",
    "        if somme == n:\n",
    "            amstrong.append(n)\n",
    "    return amstrong\n",
    "\n",
    "    \n",
    "print(nombre_amstrong(10000000))"
   ]
  },
  {
   "cell_type": "code",
   "execution_count": 19,
   "metadata": {},
   "outputs": [
    {
     "name": "stdout",
     "output_type": "stream",
     "text": [
      "True\n"
     ]
    }
   ],
   "source": [
    "def nombre_amstrong(n):\n",
    "    nombre = n\n",
    "    counter = 0\n",
    "    somme = 0\n",
    "    while nombre > 0:\n",
    "        counter += 1\n",
    "        nombre //= 10\n",
    "    nombre = n\n",
    "    while nombre > 0:\n",
    "        digit = nombre % 10\n",
    "        somme += (digit ** counter)\n",
    "        nombre //= 10\n",
    "    if somme == n:\n",
    "        return True\n",
    "    else:\n",
    "        return False\n",
    "nbr = int(input(\"entrer un nombre naturel :\"))\n",
    "print(nombre_amstrong(nbr))"
   ]
  },
  {
   "cell_type": "markdown",
   "metadata": {},
   "source": [
    "#EXERCICE 10:"
   ]
  },
  {
   "cell_type": "code",
   "execution_count": 35,
   "metadata": {},
   "outputs": [
    {
     "name": "stdout",
     "output_type": "stream",
     "text": [
      "True\n"
     ]
    }
   ],
   "source": [
    "def annee(annee):\n",
    "    if (annee % 4 == 0 and annee % 100 != 0) or annee % 400 == 0:\n",
    "        return True\n",
    "    else:\n",
    "        return False\n",
    "    \n",
    "print(annee(2000))\n",
    "        "
   ]
  }
 ],
 "metadata": {
  "kernelspec": {
   "display_name": "base",
   "language": "python",
   "name": "python3"
  },
  "language_info": {
   "codemirror_mode": {
    "name": "ipython",
    "version": 3
   },
   "file_extension": ".py",
   "mimetype": "text/x-python",
   "name": "python",
   "nbconvert_exporter": "python",
   "pygments_lexer": "ipython3",
   "version": "3.12.3"
  }
 },
 "nbformat": 4,
 "nbformat_minor": 2
}
