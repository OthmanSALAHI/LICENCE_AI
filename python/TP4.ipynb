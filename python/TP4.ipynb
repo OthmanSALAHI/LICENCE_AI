{
 "cells": [
  {
   "cell_type": "markdown",
   "metadata": {},
   "source": [
    "# EXERCICE 1"
   ]
  },
  {
   "cell_type": "code",
   "execution_count": 1,
   "metadata": {},
   "outputs": [
    {
     "name": "stdout",
     "output_type": "stream",
     "text": [
      "[5, 15, 34, 21, 11, 18]\n",
      "[3, 11, 75, 3, 56, 39]\n",
      "[19, 30, 24, 95, 99, 90]\n",
      "[10, 24, 43, 45, 65, 19]\n",
      "[45, 87, 18, 78, 74, 71]\n",
      "\n",
      "[45, 87, 75, 95, 99, 90]\n",
      "[19, 30, 43, 78, 74, 71]\n",
      "[10, 24, 34, 45, 65, 39]\n",
      "[5, 15, 24, 21, 56, 19]\n",
      "[3, 11, 18, 3, 11, 18]\n"
     ]
    }
   ],
   "source": [
    "def Trier(mat):\n",
    "    C = len(mat[0])\n",
    "    L = len(mat)\n",
    "    for i in range(C):\n",
    "        for j in range(L - 1):\n",
    "            for k in range(j, L):\n",
    "                if mat[j][i] < mat[k][i]:\n",
    "                    mat[j][i], mat[k][i] = mat[k][i], mat[j][i]\n",
    "\n",
    "\n",
    "\n",
    "matrix = [\n",
    "    [5, 15, 34, 21, 11, 18],\n",
    "    [3, 11, 75, 3, 56, 39],\n",
    "    [19, 30, 24, 95, 99, 90],\n",
    "    [10, 24, 43, 45, 65, 19],\n",
    "    [45, 87, 18, 78, 74, 71]\n",
    "]\n",
    "\n",
    "# Display the matrix\n",
    "for row in matrix:\n",
    "    print(row)\n",
    "\n",
    "print()\n",
    "Trier(matrix)\n",
    "\n",
    "for row in matrix:\n",
    "    print(row)"
   ]
  },
  {
   "cell_type": "markdown",
   "metadata": {},
   "source": [
    "# EXERCICE 2:"
   ]
  },
  {
   "cell_type": "code",
   "execution_count": 27,
   "metadata": {},
   "outputs": [
    {
     "name": "stdout",
     "output_type": "stream",
     "text": [
      "3a3b5z\n"
     ]
    }
   ],
   "source": [
    "def crypto(ch):\n",
    "\n",
    "    res = ''\n",
    "    if not ch or len(ch) > 50:\n",
    "        return res\n",
    "    \n",
    "    cpt = 1\n",
    "    for i in range(len(ch) - 1):\n",
    "        if ch[i] == ch[i + 1]:\n",
    "            cpt += 1\n",
    "        else:\n",
    "            res += str(cpt) + ch[i]\n",
    "            cpt = 1\n",
    "    \n",
    "    res += str(cpt) + ch[-1]\n",
    "    return res\n",
    "    \n",
    "            \n",
    "print(crypto('aaabbbzzzzz'))\n"
   ]
  },
  {
   "cell_type": "markdown",
   "metadata": {},
   "source": [
    "# EXERCICE 3"
   ]
  },
  {
   "cell_type": "code",
   "execution_count": 31,
   "metadata": {},
   "outputs": [
    {
     "name": "stdout",
     "output_type": "stream",
     "text": [
      "True\n"
     ]
    }
   ],
   "source": [
    "def is_ordered(table):\n",
    "\n",
    "    if not table or len(table) == 1:\n",
    "        return True\n",
    "\n",
    "    if table[0] <= table[1]:\n",
    "        return is_ordered(table[1:])\n",
    "\n",
    "    return False\n",
    "\n",
    "T = [5, 11, 15, 18, 21, 34]\n",
    "print(is_ordered(T))\n"
   ]
  },
  {
   "cell_type": "markdown",
   "metadata": {},
   "source": [
    "# EXERCICE 4\n"
   ]
  },
  {
   "cell_type": "code",
   "execution_count": 38,
   "metadata": {},
   "outputs": [
    {
     "name": "stdout",
     "output_type": "stream",
     "text": [
      "True\n",
      "False\n"
     ]
    }
   ],
   "source": [
    "def isPalindrome(s):\n",
    "\n",
    "    if not s or len(s) == 1:\n",
    "        return True\n",
    "\n",
    "    return s[0] == s[-1] and isPalindrome(s[1:-1])\n",
    "\n",
    "print(isPalindrome('())('))\n",
    "print(isPalindrome('()()'))"
   ]
  },
  {
   "cell_type": "markdown",
   "metadata": {},
   "source": [
    "# EXERCICE 5"
   ]
  },
  {
   "cell_type": "code",
   "execution_count": 42,
   "metadata": {},
   "outputs": [
    {
     "name": "stdout",
     "output_type": "stream",
     "text": [
      "12\n",
      "12\n"
     ]
    }
   ],
   "source": [
    "# methode 1\n",
    "def plus_grande_ecart(lst):\n",
    "\n",
    "    max_ecart = 0\n",
    "    for i in range(len(lst)):\n",
    "        for j in range(len(lst)):\n",
    "            ecart = lst[i] - lst[j]\n",
    "            if max_ecart < ecart:\n",
    "                max_ecart = ecart\n",
    "\n",
    "    return max_ecart\n",
    "\n",
    "# methode 2\n",
    "def plus_grande_ecart_2(lst):\n",
    "    return max(lst) - min(lst)\n",
    "\n",
    "liste = [1, 13, 5, 6, 2, 12]\n",
    "\n",
    "print(plus_grande_ecart(liste))\n",
    "print(plus_grande_ecart_2(liste))"
   ]
  }
 ],
 "metadata": {
  "kernelspec": {
   "display_name": "base",
   "language": "python",
   "name": "python3"
  },
  "language_info": {
   "codemirror_mode": {
    "name": "ipython",
    "version": 3
   },
   "file_extension": ".py",
   "mimetype": "text/x-python",
   "name": "python",
   "nbconvert_exporter": "python",
   "pygments_lexer": "ipython3",
   "version": "3.12.3"
  }
 },
 "nbformat": 4,
 "nbformat_minor": 2
}
