{
 "cells": [
  {
   "cell_type": "markdown",
   "metadata": {},
   "source": [
    "# EXERCICE 1"
   ]
  },
  {
   "cell_type": "code",
   "execution_count": 5,
   "metadata": {},
   "outputs": [
    {
     "name": "stdout",
     "output_type": "stream",
     "text": [
      "80\n",
      "15\n"
     ]
    },
    {
     "ename": "",
     "evalue": "",
     "output_type": "error",
     "traceback": [
      "\u001b[1;31mThe Kernel crashed while executing code in the current cell or a previous cell. \n",
      "\u001b[1;31mPlease review the code in the cell(s) to identify a possible cause of the failure. \n",
      "\u001b[1;31mClick <a href='https://aka.ms/vscodeJupyterKernelCrash'>here</a> for more info. \n",
      "\u001b[1;31mView Jupyter <a href='command:jupyter.viewOutput'>log</a> for further details."
     ]
    }
   ],
   "source": [
    "import numpy as np\n",
    "arbre = [40, [14, [5, [3, [],[]],[2, [],[]]],[4, [],[]]],[6 ,[1 ,[],[]],[5, [],[]]]]\n",
    "\n",
    "def somme(a):\n",
    "    if a == []:\n",
    "        return 0\n",
    "    return somme(a[1]) + a[0] + somme(a[2])\n",
    "\n",
    "def somme_feuilles(a):\n",
    "    if a == []:\n",
    "        return 0\n",
    "    if not a[1] and not a[2]:\n",
    "        return a[0]\n",
    "    return somme_feuilles(a[1]) + somme_feuilles(a[2])\n",
    "\n",
    "print(somme(arbre))\n",
    "print(somme_feuilles(arbre))"
   ]
  },
  {
   "cell_type": "markdown",
   "metadata": {},
   "source": [
    "# EXERCICE 2:"
   ]
  },
  {
   "cell_type": "code",
   "execution_count": null,
   "metadata": {},
   "outputs": [],
   "source": [
    "def memeniveau(a, cpt=0):\n",
    "    if a == []:\n",
    "        return 0\n",
    "    if a[1]"
   ]
  }
 ],
 "metadata": {
  "kernelspec": {
   "display_name": "base",
   "language": "python",
   "name": "python3"
  },
  "language_info": {
   "codemirror_mode": {
    "name": "ipython",
    "version": 3
   },
   "file_extension": ".py",
   "mimetype": "text/x-python",
   "name": "python",
   "nbconvert_exporter": "python",
   "pygments_lexer": "ipython3",
   "version": "3.12.3"
  }
 },
 "nbformat": 4,
 "nbformat_minor": 2
}
