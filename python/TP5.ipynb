{
 "cells": [
  {
   "cell_type": "markdown",
   "metadata": {},
   "source": [
    "# EXERCICE 1"
   ]
  },
  {
   "cell_type": "code",
   "execution_count": 7,
   "metadata": {},
   "outputs": [
    {
     "name": "stdout",
     "output_type": "stream",
     "text": [
      "82\n",
      "17\n"
     ]
    }
   ],
   "source": [
    "import numpy as np\n",
    "arbre = [40, [14, [5, [3, [],[]],[3, [],[]]],[5, [],[]]],[6 ,[1 ,[],[]],[5, [],[]]]]\n",
    "\n",
    "def somme(a):\n",
    "    if a == []:\n",
    "        return 0\n",
    "    return somme(a[1]) + a[0] + somme(a[2])\n",
    "\n",
    "def somme_feuilles(a):\n",
    "    if a == []:\n",
    "        return 0\n",
    "    if not a[1] and not a[2]:\n",
    "        return a[0]\n",
    "    return somme_feuilles(a[1]) + somme_feuilles(a[2])\n",
    "\n",
    "print(somme(arbre))\n",
    "print(somme_feuilles(arbre))"
   ]
  },
  {
   "cell_type": "markdown",
   "metadata": {},
   "source": [
    "# EXERCICE 2:"
   ]
  },
  {
   "cell_type": "code",
   "execution_count": 2,
   "metadata": {},
   "outputs": [
    {
     "name": "stdout",
     "output_type": "stream",
     "text": [
      "False\n",
      "True\n"
     ]
    }
   ],
   "source": [
    "niv = -1\n",
    "def memeniveau(a, cpt=0):\n",
    "    global niv\n",
    "    if not a:\n",
    "        return True\n",
    "    if (len(a[1]) + len(a[2]) == 0):\n",
    "        if niv < 0:\n",
    "            niv = cpt\n",
    "            return True\n",
    "        return cpt == niv\n",
    "    else:\n",
    "        return memeniveau(a[1], cpt + 1) and memeniveau(a[2], cpt + 1)\n",
    "\n",
    "a1 = [40, [20, [10, [], []], [30, [], []]], [50, [], []]]\n",
    "a2 = [19, [42, [], [17, [], []]], [15, [35, [], []], [12, [], []]]]\n",
    "\n",
    "print(memeniveau(a1))\n",
    "print(memeniveau(a2))            "
   ]
  },
  {
   "cell_type": "markdown",
   "metadata": {},
   "source": [
    "# EXERCICE 3"
   ]
  },
  {
   "cell_type": "code",
   "execution_count": 8,
   "metadata": {},
   "outputs": [
    {
     "name": "stdout",
     "output_type": "stream",
     "text": [
      "False\n"
     ]
    }
   ],
   "source": [
    "def sommeEnfants(m):\n",
    "    if not m:\n",
    "        return True\n",
    "    if not m[1] and not m[2]:\n",
    "        return True \n",
    "    left = somme(m[1])\n",
    "    right = somme(m[2])\n",
    "    \n",
    "    return left + right == m[0] and sommeEnfants(m[1]) and sommeEnfants(m[2])\n",
    "print(sommeEnfants(arbre))"
   ]
  }
 ],
 "metadata": {
  "kernelspec": {
   "display_name": "base",
   "language": "python",
   "name": "python3"
  },
  "language_info": {
   "codemirror_mode": {
    "name": "ipython",
    "version": 3
   },
   "file_extension": ".py",
   "mimetype": "text/x-python",
   "name": "python",
   "nbconvert_exporter": "python",
   "pygments_lexer": "ipython3",
   "version": "3.12.3"
  }
 },
 "nbformat": 4,
 "nbformat_minor": 2
}
