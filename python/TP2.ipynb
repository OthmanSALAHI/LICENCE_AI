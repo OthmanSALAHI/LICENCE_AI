{
 "cells": [
  {
   "cell_type": "markdown",
   "metadata": {},
   "source": [
    "# EXERCICE 1"
   ]
  },
  {
   "cell_type": "code",
   "execution_count": 31,
   "metadata": {},
   "outputs": [
    {
     "name": "stdout",
     "output_type": "stream",
     "text": [
      "Affichage en colonne :\n",
      "Affichage en ligne séparée par '/': 10/23/22/42/12/50/98/1/8/65/70\n",
      "98\n",
      "98\n",
      "1\n",
      "1\n",
      "nombre de multiple par 3 : 2\n",
      "somme de liste est : 401\n",
      "la somme de les elements de liste est : 401\n",
      "312\n",
      "36.45\n",
      "verifier que moyenne superieur a 10: True\n",
      "produit de touts les elements de la liste : 304254720000\n",
      "227500\n",
      "[70, 65, 8, 1, 98, 50, 12, 42, 22, 23, 10]\n",
      "<list_reverseiterator object at 0x0000016D4F6EB4F0>\n"
     ]
    }
   ],
   "source": [
    "\n",
    "liste = [10, 23, 22, 42, 12, 50, 98, 1, 8, 65, 70]\n",
    "\n",
    "print(\"Affichage en colonne :\")\n",
    "# for element in liste:\n",
    "#     print(element)\n",
    "print(\"Affichage en ligne séparée par '/':\", \"/\".join(map(str, liste)))\n",
    "\n",
    "# max\n",
    "print(max(liste))\n",
    "maximum = liste[0]\n",
    "for element in liste:\n",
    "    if maximum < element:\n",
    "        maximum = element\n",
    "print(maximum)\n",
    "\n",
    "# min\n",
    "print(min(liste))\n",
    "minimum = liste[0]\n",
    "for element in liste:\n",
    "    if minimum > element:\n",
    "        minimum = element\n",
    "print(minimum)\n",
    "\n",
    "\n",
    "# multiple de 3\n",
    "counter = 0\n",
    "for element in liste:\n",
    "    if element % 3 == 0:\n",
    "        counter += 1\n",
    "print('nombre de multiple par 3 :',counter)\n",
    "\n",
    "# la somme des elements de la liste\n",
    "print('somme de liste est :',sum(liste))\n",
    "somme = 0\n",
    "for element in liste:\n",
    "    somme += element\n",
    "print('la somme de les elements de liste est :',somme)\n",
    "\n",
    "# la somme des elements pair de la liste\n",
    "somme = 0\n",
    "for element in liste:\n",
    "    if element % 2 == 0:\n",
    "        somme += element\n",
    "print(somme)\n",
    "\n",
    "#calculer le moyenne arithmetique\n",
    "moyenne = sum(liste)/len(liste)\n",
    "print(f'{moyenne:.2f}')\n",
    "\n",
    "# verification\n",
    "print('verifier que moyenne superieur a 10:', moyenne >= 10)\n",
    "\n",
    "#calcul la produit de touts les elements\n",
    "multiplication = 1\n",
    "for element in liste:\n",
    "    if element % 2 == 0:\n",
    "        multiplication *= element\n",
    "print('produit de touts les elements de la liste :',multiplication)\n",
    "\n",
    "#produit des elements entre [50, 70]\n",
    "produit = 1\n",
    "for element in liste:\n",
    "    if element <= 70 and element >= 50:\n",
    "        produit *= element\n",
    "print(produit)\n",
    "\n",
    "# l'inverse de la liste\n",
    "print(liste[::-1])\n"
   ]
  },
  {
   "cell_type": "markdown",
   "metadata": {},
   "source": []
  },
  {
   "cell_type": "code",
   "execution_count": 34,
   "metadata": {},
   "outputs": [
    {
     "name": "stdout",
     "output_type": "stream",
     "text": [
      "[6, 5, 4, 3, 2, 1]\n",
      "[6 5 4 3 2 1]\n"
     ]
    }
   ],
   "source": [
    "import numpy as np\n",
    "def inverse(liste):\n",
    "    return liste[::-1]\n",
    "\n",
    "liste = [1,2,3,4,5,6]\n",
    "print(inverse(liste))\n",
    "tableau = np.array(liste)\n",
    "print(np.flip(tableau))"
   ]
  },
  {
   "cell_type": "code",
   "execution_count": 59,
   "metadata": {},
   "outputs": [
    {
     "name": "stdout",
     "output_type": "stream",
     "text": [
      "10-23-22-42-12-50-98-1-8-66-70\n",
      "3\n",
      "[70, 66, 8, 1, 98, 50, 12, 42, 22, 23, 10]\n",
      "[70, 66, 8, 1, 98, 50, 12, 42, 22, 23, 10]\n",
      "[70, 66, 8, 1, 98, 50, 12, 42, 22, 23, 10]\n"
     ]
    }
   ],
   "source": [
    "liste = [10, 23, 22, 42, 12, 50, 98, 1, 8, 66, 70]\n",
    "\n",
    "print('-'.join(map(str,liste)))\n",
    "\n",
    "print(sum(1 for element in liste if element % 3 == 0))\n",
    "\n",
    "iverse_liste = []\n",
    "for i in range(len(liste) - 1, -1, -1):\n",
    "    iverse_liste.append(liste[i])\n",
    "print(iverse_liste)\n",
    "# print(inverse(liste))\n",
    "\n",
    "print(liste[::-1])"
   ]
  },
  {
   "cell_type": "markdown",
   "metadata": {},
   "source": [
    "## EXERCICE 3"
   ]
  },
  {
   "cell_type": "code",
   "execution_count": 5,
   "metadata": {},
   "outputs": [
    {
     "name": "stdout",
     "output_type": "stream",
     "text": [
      "[[[0.6297088  0.02614993 0.87423241]\n",
      "  [0.05392065 0.0219703  0.06511041]\n",
      "  [0.77056199 0.31294485 0.20493128]]\n",
      "\n",
      " [[0.1337245  0.67109888 0.91142324]\n",
      "  [0.27317739 0.01489147 0.6449712 ]\n",
      "  [0.86318952 0.60362516 0.40086743]]\n",
      "\n",
      " [[0.00377264 0.32074601 0.77921344]\n",
      "  [0.18463498 0.55296367 0.82895256]\n",
      "  [0.60292344 0.12382476 0.8454632 ]]]\n",
      "0.6297087972790225\n"
     ]
    }
   ],
   "source": [
    "\n",
    "\n",
    "\n",
    "T3 = np.random.rand(3, 3, 3)\n",
    "print(T3)\n",
    "print(T3[0,0,0])\n"
   ]
  },
  {
   "cell_type": "markdown",
   "metadata": {},
   "source": [
    "## EXERCICE 4"
   ]
  },
  {
   "cell_type": "code",
   "execution_count": 13,
   "metadata": {},
   "outputs": [
    {
     "name": "stdout",
     "output_type": "stream",
     "text": [
      "sans utiliser diag\n",
      "False\n",
      "True\n",
      "avec utiliser diag\n",
      "---------------- diagonale ----------------\n",
      "[7 2 6]\n",
      "------------- diag of diagonale -----------\n",
      "[[7 0 0]\n",
      " [0 2 0]\n",
      " [0 0 6]]\n",
      "------------- rest of matrice -------------\n",
      "[[0 2 6]\n",
      " [2 0 3]\n",
      " [6 3 0]]\n",
      "-------------- true or false --------------\n",
      "False\n",
      "---------------- diagonale ----------------\n",
      "[7 2 6]\n",
      "------------- diag of diagonale -----------\n",
      "[[7 0 0]\n",
      " [0 2 0]\n",
      " [0 0 6]]\n",
      "------------- rest of matrice -------------\n",
      "[[0 0 0]\n",
      " [0 0 0]\n",
      " [0 0 0]]\n",
      "-------------- true or false --------------\n",
      "True\n"
     ]
    }
   ],
   "source": [
    "matrice1 = np.array([\n",
    "    [7, 2, 6],\n",
    "    [2, 2, 3],\n",
    "    [6, 3, 6]\n",
    "    ])\n",
    "\n",
    "matrice2 = np.array([\n",
    "    [7, 0, 0],\n",
    "    [0, 2, 0],\n",
    "    [0, 0, 6]\n",
    "    ])\n",
    "\n",
    "print('sans utiliser diag')\n",
    "# sans utiliser diag\n",
    "def is_diag(m):\n",
    "    for i in range(len(m)):\n",
    "        for j in range(len(m[i])):\n",
    "            if j != i and m[i][j] != 0:\n",
    "                return False\n",
    "    return True\n",
    "print(is_diag(matrice1))\n",
    "print(is_diag(matrice2))\n",
    "\n",
    "print('avec utiliser diag')\n",
    "# avec utiliser diag\n",
    "def diag_matrice(m):\n",
    "    diagonale = np.diag(m)\n",
    "    print('---------------- diagonale ----------------')\n",
    "    print(diagonale)\n",
    "    print('------------- diag of diagonale -----------')\n",
    "    print(np.diag(diagonale))\n",
    "    print('------------- rest of matrice -------------')\n",
    "    rest_de_matrice = m - np.diag(diagonale)\n",
    "    print(rest_de_matrice)\n",
    "    print('-------------- true or false --------------')\n",
    "    if np.any(rest_de_matrice != 0):\n",
    "        return False\n",
    "    return True\n",
    "\n",
    "print(diag_matrice(matrice1))\n",
    "print(diag_matrice(matrice2))\n",
    "\n",
    "\n",
    "            \n",
    "                "
   ]
  },
  {
   "cell_type": "markdown",
   "metadata": {},
   "source": [
    "## EXERCICE 5\n"
   ]
  },
  {
   "cell_type": "code",
   "execution_count": 32,
   "metadata": {},
   "outputs": [
    {
     "name": "stdout",
     "output_type": "stream",
     "text": [
      "[ 0  2  4  6  8 10 12 14 16 18 20 22 24 26 28 30 32 34 36 38 40 42 44 46\n",
      " 48 50]\n",
      "[1.0, -0.654, -0.958, -0.128, 0.392, 0.862, 0.871, 0.342, -0.04, -0.915, -0.525, 0.981, -0.464, -0.849, 0.172, 0.066, 0.987, 0.994, -0.093, 0.424, -0.598, -0.004, 0.712, 0.137, -0.351, 0.76]\n",
      "-0.958\n",
      "1\n"
     ]
    }
   ],
   "source": [
    "T1 = np.array([i for i in range(51) if i % 2 == 0])\n",
    "T1 = np.arange(0, 51, 2)\n",
    "print(T1)\n",
    "\n",
    "T2 = np.cos(T1 ** 2)\n",
    "\n",
    "T2 = [float(f'{i:.3f}') for i in T2]\n",
    "# T2 = [float(f\"{np.cos(T1[i]) ** 2:.2f}\") for i in range(len(T1))] hadchi khata2\n",
    "\n",
    "print(T2)\n",
    "\n",
    "print(min(T2))\n",
    "\n",
    "print(sum(1 for i in T2 if max(T2) == i))\n"
   ]
  },
  {
   "cell_type": "markdown",
   "metadata": {},
   "source": [
    "## EXERCICE 6"
   ]
  },
  {
   "cell_type": "code",
   "execution_count": 3,
   "metadata": {},
   "outputs": [
    {
     "name": "stdout",
     "output_type": "stream",
     "text": [
      "True\n",
      "False\n"
     ]
    }
   ],
   "source": [
    "liste = [1, 2, 3, 2, 1]\n",
    "liste1 = [1, 2, 3, 2, 2]\n",
    "\n",
    "def est_symetrique(liste):\n",
    "    return liste == liste[::-1]\n",
    "print(est_symetrique(liste))\n",
    "print(est_symetrique(liste1))"
   ]
  }
 ],
 "metadata": {
  "kernelspec": {
   "display_name": "base",
   "language": "python",
   "name": "python3"
  },
  "language_info": {
   "codemirror_mode": {
    "name": "ipython",
    "version": 3
   },
   "file_extension": ".py",
   "mimetype": "text/x-python",
   "name": "python",
   "nbconvert_exporter": "python",
   "pygments_lexer": "ipython3",
   "version": "3.12.3"
  }
 },
 "nbformat": 4,
 "nbformat_minor": 2
}
