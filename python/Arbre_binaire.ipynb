{
 "cells": [
  {
   "cell_type": "markdown",
   "metadata": {},
   "source": [
    "# Profondeur"
   ]
  },
  {
   "cell_type": "code",
   "execution_count": 17,
   "metadata": {},
   "outputs": [
    {
     "name": "stdout",
     "output_type": "stream",
     "text": [
      "4\n"
     ]
    }
   ],
   "source": [
    "def profondeur(m):\n",
    "    if not m or m[1] == m[2] == []:\n",
    "        return 0\n",
    "    return 1 + max(profondeur(m[1]), profondeur(m[2]))\n",
    "A=[20, [ 15, [10,[],[12,[],[]] ], [17,[],[]] ] , [ 23, [22,[],[]], [29,[12, [], [21, [], []]],[]] ] ]\n",
    "\n",
    "print(profondeur(A))"
   ]
  },
  {
   "cell_type": "markdown",
   "metadata": {},
   "source": [
    "## LARGEUR"
   ]
  },
  {
   "cell_type": "code",
   "execution_count": 28,
   "metadata": {},
   "outputs": [
    {
     "name": "stdout",
     "output_type": "stream",
     "text": [
      "20 5 3 10 14 22 29 40 17 "
     ]
    }
   ],
   "source": [
    "def laargeur(A):\n",
    "    file=[A]\n",
    "    while len(file)!=0:\n",
    "        e=file[0]\n",
    "        file=file[1:]\n",
    "        print(e[0], end=' ')\n",
    "        if len(e[1])!=0:\n",
    "            file+=[e[1]]\n",
    "        if len(e[2])!=0:\n",
    "            file+=[e[2]]\n",
    "A=[20, [ 5, [10,[],[] ], [14,[],[40,[],[17,[],[]]]] ] , [ 3, [22,[],[]], [29,[],[]] ] ]\n",
    "laargeur(A)"
   ]
  },
  {
   "cell_type": "code",
   "execution_count": 36,
   "metadata": {},
   "outputs": [
    {
     "name": "stdout",
     "output_type": "stream",
     "text": [
      "False\n"
     ]
    }
   ],
   "source": [
    "def recherche_binaire(m, n):\n",
    "    if not m:\n",
    "        return False\n",
    "    if n == m[0]:\n",
    "        return True\n",
    "    elif n >= m[0]:\n",
    "        return recherche_binaire(m[2], n)\n",
    "    else:\n",
    "        return recherche_binaire(m[1], n)\n",
    "    \n",
    "A=[20, [ 15, [10,[],[12,[],[]] ], [17,[],[]] ] , [ 23, [22,[],[]], [29,[],[]] ] ]\n",
    "\n",
    "print(recherche_binaire(A, 0))"
   ]
  },
  {
   "cell_type": "code",
   "execution_count": 53,
   "metadata": {},
   "outputs": [
    {
     "name": "stdout",
     "output_type": "stream",
     "text": [
      "[20, [15, [10, [], [12, [], []]], [17, [[16, [], []]], []]], [23, [22, [], []], [29, [], []]]]\n"
     ]
    }
   ],
   "source": [
    "def inserer(a, n):\n",
    "    if not a:\n",
    "        a.append([n, [], []])\n",
    "        return a\n",
    "    # rac = a[0]\n",
    "    \n",
    "    if n == a[0]:\n",
    "        return a\n",
    "    elif n > a[0]:\n",
    "        a[2] = inserer(a[2], n)\n",
    "    else:\n",
    "        a[1] = inserer(a[1], n)\n",
    "    return a\n",
    "A=[20, [ 15, [10,[],[12,[],[]] ], [17,[],[]] ] , [ 23, [22,[],[]], [29,[],[]] ] ]\n",
    "\n",
    "a = inserer(A, 16)\n",
    "print(a)"
   ]
  },
  {
   "cell_type": "code",
   "execution_count": 12,
   "metadata": {},
   "outputs": [
    {
     "name": "stdout",
     "output_type": "stream",
     "text": [
      "2\n"
     ]
    }
   ],
   "source": [
    "def counted(a, x):\n",
    "    if not a:\n",
    "        return 0\n",
    "    if x == a[0]:\n",
    "        return 1\n",
    "    return counted(a[1], x) + counted(a[2], x)\n",
    "\n",
    "A=[20, [ 15, [10,[],[12,[],[]] ], [17,[],[]] ] , [ 23, [22,[],[]], [22,[],[]] ] ]\n",
    "print(counted(A, 22))"
   ]
  }
 ],
 "metadata": {
  "kernelspec": {
   "display_name": "base",
   "language": "python",
   "name": "python3"
  },
  "language_info": {
   "codemirror_mode": {
    "name": "ipython",
    "version": 3
   },
   "file_extension": ".py",
   "mimetype": "text/x-python",
   "name": "python",
   "nbconvert_exporter": "python",
   "pygments_lexer": "ipython3",
   "version": "3.12.3"
  }
 },
 "nbformat": 4,
 "nbformat_minor": 2
}
